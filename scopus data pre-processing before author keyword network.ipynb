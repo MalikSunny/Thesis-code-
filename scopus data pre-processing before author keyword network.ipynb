{
 "cells": [
  {
   "cell_type": "code",
   "execution_count": 1,
   "id": "1b6fe8ec",
   "metadata": {},
   "outputs": [],
   "source": [
    "%config Completer.use_jedi = False"
   ]
  },
  {
   "cell_type": "code",
   "execution_count": 2,
   "id": "e0e7a331",
   "metadata": {},
   "outputs": [
    {
     "name": "stdout",
     "output_type": "stream",
     "text": [
      "/home/sunny\n"
     ]
    }
   ],
   "source": [
    "cd"
   ]
  },
  {
   "cell_type": "code",
   "execution_count": 3,
   "id": "f348e80b",
   "metadata": {},
   "outputs": [
    {
     "name": "stdout",
     "output_type": "stream",
     "text": [
      "/home/sunny/degradation plastic\n"
     ]
    }
   ],
   "source": [
    "cd degradation\\ plastic/"
   ]
  },
  {
   "cell_type": "code",
   "execution_count": 4,
   "id": "5e8ce705",
   "metadata": {},
   "outputs": [
    {
     "name": "stdout",
     "output_type": "stream",
     "text": [
      "\u001b[0m\u001b[01;34mbibliotool_tutorial\u001b[0m/  \u001b[01;34mbiodegradation\u001b[0m/  \u001b[01;34mdegradation\u001b[0m/\r\n"
     ]
    }
   ],
   "source": [
    "ls"
   ]
  },
  {
   "cell_type": "code",
   "execution_count": 5,
   "id": "85175789",
   "metadata": {},
   "outputs": [
    {
     "name": "stdout",
     "output_type": "stream",
     "text": [
      "/home/sunny/degradation plastic/biodegradation\n"
     ]
    }
   ],
   "source": [
    "cd biodegradation/"
   ]
  },
  {
   "cell_type": "code",
   "execution_count": 6,
   "id": "dd215fbc",
   "metadata": {},
   "outputs": [],
   "source": [
    "import pandas as pd\n",
    "import collections \n",
    "import seaborn as sns "
   ]
  },
  {
   "cell_type": "code",
   "execution_count": 7,
   "id": "ef573ec2",
   "metadata": {},
   "outputs": [],
   "source": [
    "path = '/home/sunny/degradation plastic/biodegradation'"
   ]
  },
  {
   "cell_type": "code",
   "execution_count": 8,
   "id": "d7093f10",
   "metadata": {},
   "outputs": [],
   "source": [
    "from fnmatch import fnmatch\n",
    "import os"
   ]
  },
  {
   "cell_type": "markdown",
   "id": "65960fb5",
   "metadata": {},
   "source": [
    "## read all *.csv files in the folder "
   ]
  },
  {
   "cell_type": "code",
   "execution_count": 9,
   "id": "4fe325e4",
   "metadata": {},
   "outputs": [],
   "source": [
    "pattern = \"*.csv\"\n",
    "count=[]\n",
    "for i, subdirs, files in os.walk(path):\n",
    "    for name in files:\n",
    "        if fnmatch(name, pattern):\n",
    "            count.append(name)"
   ]
  },
  {
   "cell_type": "code",
   "execution_count": 10,
   "id": "48228920",
   "metadata": {},
   "outputs": [
    {
     "data": {
      "text/plain": [
       "['scopus 2 16-05.csv',\n",
       " 'scopus 3 othes.csv',\n",
       " 'scopus 1 22-17.csv',\n",
       " 'scopus 2 16-05.csv',\n",
       " 'dummy2.csv',\n",
       " 'scopus 3 othes.csv',\n",
       " 'scopus 1 22-17.csv',\n",
       " 'dummy1.csv',\n",
       " 'dummy3.csv',\n",
       " 'plastic_3088_after_preprocessing.csv']"
      ]
     },
     "execution_count": 10,
     "metadata": {},
     "output_type": "execute_result"
    }
   ],
   "source": [
    "count"
   ]
  },
  {
   "cell_type": "code",
   "execution_count": 11,
   "id": "2a7727cc",
   "metadata": {},
   "outputs": [],
   "source": [
    "file=['scopus 2 16-05.csv', 'scopus 3 othes.csv', 'scopus 1 22-17.csv']"
   ]
  },
  {
   "cell_type": "code",
   "execution_count": 12,
   "id": "4c40c4ce",
   "metadata": {},
   "outputs": [],
   "source": [
    "df = pd.concat((pd.read_csv(f,header=None) for f in file),ignore_index=True)"
   ]
  },
  {
   "cell_type": "code",
   "execution_count": 13,
   "id": "51de0980",
   "metadata": {},
   "outputs": [
    {
     "data": {
      "text/plain": [
       "(4666, 54)"
      ]
     },
     "execution_count": 13,
     "metadata": {},
     "output_type": "execute_result"
    }
   ],
   "source": [
    "df.shape"
   ]
  },
  {
   "cell_type": "code",
   "execution_count": 14,
   "id": "fc67b740",
   "metadata": {
    "scrolled": true
   },
   "outputs": [
    {
     "data": {
      "text/html": [
       "<div>\n",
       "<style scoped>\n",
       "    .dataframe tbody tr th:only-of-type {\n",
       "        vertical-align: middle;\n",
       "    }\n",
       "\n",
       "    .dataframe tbody tr th {\n",
       "        vertical-align: top;\n",
       "    }\n",
       "\n",
       "    .dataframe thead th {\n",
       "        text-align: right;\n",
       "    }\n",
       "</style>\n",
       "<table border=\"1\" class=\"dataframe\">\n",
       "  <thead>\n",
       "    <tr style=\"text-align: right;\">\n",
       "      <th></th>\n",
       "      <th>0</th>\n",
       "      <th>1</th>\n",
       "      <th>2</th>\n",
       "      <th>3</th>\n",
       "      <th>4</th>\n",
       "      <th>5</th>\n",
       "      <th>6</th>\n",
       "      <th>7</th>\n",
       "      <th>8</th>\n",
       "      <th>9</th>\n",
       "      <th>...</th>\n",
       "      <th>44</th>\n",
       "      <th>45</th>\n",
       "      <th>46</th>\n",
       "      <th>47</th>\n",
       "      <th>48</th>\n",
       "      <th>49</th>\n",
       "      <th>50</th>\n",
       "      <th>51</th>\n",
       "      <th>52</th>\n",
       "      <th>53</th>\n",
       "    </tr>\n",
       "  </thead>\n",
       "  <tbody>\n",
       "    <tr>\n",
       "      <th>0</th>\n",
       "      <td>Authors</td>\n",
       "      <td>Author(s) ID</td>\n",
       "      <td>Title</td>\n",
       "      <td>Year</td>\n",
       "      <td>Source title</td>\n",
       "      <td>Volume</td>\n",
       "      <td>Issue</td>\n",
       "      <td>Art. No.</td>\n",
       "      <td>Page start</td>\n",
       "      <td>Page end</td>\n",
       "      <td>...</td>\n",
       "      <td>ISBN</td>\n",
       "      <td>CODEN</td>\n",
       "      <td>PubMed ID</td>\n",
       "      <td>Language of Original Document</td>\n",
       "      <td>Abbreviated Source Title</td>\n",
       "      <td>Document Type</td>\n",
       "      <td>Publication Stage</td>\n",
       "      <td>Open Access</td>\n",
       "      <td>Source</td>\n",
       "      <td>EID</td>\n",
       "    </tr>\n",
       "    <tr>\n",
       "      <th>1</th>\n",
       "      <td>Oyola-Reynoso S., Kihereko D., Chang B.S., Mwa...</td>\n",
       "      <td>56440075700;57190980014;57189848720;5719098424...</td>\n",
       "      <td>Substituting Plastic Casings with Hydrophobic ...</td>\n",
       "      <td>2016</td>\n",
       "      <td>Industrial Crops and Products</td>\n",
       "      <td>94</td>\n",
       "      <td>NaN</td>\n",
       "      <td>NaN</td>\n",
       "      <td>294</td>\n",
       "      <td>298</td>\n",
       "      <td>...</td>\n",
       "      <td>NaN</td>\n",
       "      <td>ICRDE</td>\n",
       "      <td>NaN</td>\n",
       "      <td>English</td>\n",
       "      <td>Ind. Crops Prod.</td>\n",
       "      <td>Article</td>\n",
       "      <td>Final</td>\n",
       "      <td>NaN</td>\n",
       "      <td>Scopus</td>\n",
       "      <td>2-s2.0-84984971060</td>\n",
       "    </tr>\n",
       "    <tr>\n",
       "      <th>2</th>\n",
       "      <td>Kakde D., Powell L.G., Bansal K.K., Howdle S.,...</td>\n",
       "      <td>37000955200;51161823500;37000454400;7005110432...</td>\n",
       "      <td>Synthesis, characterization and evaluation of ...</td>\n",
       "      <td>2016</td>\n",
       "      <td>Journal of Controlled Release</td>\n",
       "      <td>244</td>\n",
       "      <td>NaN</td>\n",
       "      <td>NaN</td>\n",
       "      <td>214</td>\n",
       "      <td>228</td>\n",
       "      <td>...</td>\n",
       "      <td>NaN</td>\n",
       "      <td>JCREE</td>\n",
       "      <td>27498019</td>\n",
       "      <td>English</td>\n",
       "      <td>J. Control. Release</td>\n",
       "      <td>Article</td>\n",
       "      <td>Final</td>\n",
       "      <td>All Open Access, Green</td>\n",
       "      <td>Scopus</td>\n",
       "      <td>2-s2.0-84996497392</td>\n",
       "    </tr>\n",
       "    <tr>\n",
       "      <th>3</th>\n",
       "      <td>Arrieta M.P., López J., López D., Kenny J.M., ...</td>\n",
       "      <td>55344758200;57190023159;57196874313;5721842016...</td>\n",
       "      <td>Biodegradable electrospun bionanocomposite fib...</td>\n",
       "      <td>2016</td>\n",
       "      <td>Industrial Crops and Products</td>\n",
       "      <td>93</td>\n",
       "      <td>NaN</td>\n",
       "      <td>NaN</td>\n",
       "      <td>290</td>\n",
       "      <td>301</td>\n",
       "      <td>...</td>\n",
       "      <td>NaN</td>\n",
       "      <td>ICRDE</td>\n",
       "      <td>NaN</td>\n",
       "      <td>English</td>\n",
       "      <td>Ind. Crops Prod.</td>\n",
       "      <td>Article</td>\n",
       "      <td>Final</td>\n",
       "      <td>NaN</td>\n",
       "      <td>Scopus</td>\n",
       "      <td>2-s2.0-84954271328</td>\n",
       "    </tr>\n",
       "    <tr>\n",
       "      <th>4</th>\n",
       "      <td>Rattanapan S., Pasetto P., Pilard J.-F., Tanra...</td>\n",
       "      <td>35734879200;25634847700;6603910497;6603250296;</td>\n",
       "      <td>Polyurethane foams from oligomers derived from...</td>\n",
       "      <td>2016</td>\n",
       "      <td>Journal of Applied Polymer Science</td>\n",
       "      <td>133</td>\n",
       "      <td>47</td>\n",
       "      <td>44251</td>\n",
       "      <td>NaN</td>\n",
       "      <td>NaN</td>\n",
       "      <td>...</td>\n",
       "      <td>NaN</td>\n",
       "      <td>JAPNA</td>\n",
       "      <td>NaN</td>\n",
       "      <td>English</td>\n",
       "      <td>J. Appl. Polym. Sci.</td>\n",
       "      <td>Article</td>\n",
       "      <td>Final</td>\n",
       "      <td>NaN</td>\n",
       "      <td>Scopus</td>\n",
       "      <td>2-s2.0-84981505050</td>\n",
       "    </tr>\n",
       "  </tbody>\n",
       "</table>\n",
       "<p>5 rows × 54 columns</p>\n",
       "</div>"
      ],
      "text/plain": [
       "                                                  0   \\\n",
       "0                                            Authors   \n",
       "1  Oyola-Reynoso S., Kihereko D., Chang B.S., Mwa...   \n",
       "2  Kakde D., Powell L.G., Bansal K.K., Howdle S.,...   \n",
       "3  Arrieta M.P., López J., López D., Kenny J.M., ...   \n",
       "4  Rattanapan S., Pasetto P., Pilard J.-F., Tanra...   \n",
       "\n",
       "                                                  1   \\\n",
       "0                                       Author(s) ID   \n",
       "1  56440075700;57190980014;57189848720;5719098424...   \n",
       "2  37000955200;51161823500;37000454400;7005110432...   \n",
       "3  55344758200;57190023159;57196874313;5721842016...   \n",
       "4     35734879200;25634847700;6603910497;6603250296;   \n",
       "\n",
       "                                                  2     3   \\\n",
       "0                                              Title  Year   \n",
       "1  Substituting Plastic Casings with Hydrophobic ...  2016   \n",
       "2  Synthesis, characterization and evaluation of ...  2016   \n",
       "3  Biodegradable electrospun bionanocomposite fib...  2016   \n",
       "4  Polyurethane foams from oligomers derived from...  2016   \n",
       "\n",
       "                                   4       5      6         7           8   \\\n",
       "0                        Source title  Volume  Issue  Art. No.  Page start   \n",
       "1       Industrial Crops and Products      94    NaN       NaN         294   \n",
       "2       Journal of Controlled Release     244    NaN       NaN         214   \n",
       "3       Industrial Crops and Products      93    NaN       NaN         290   \n",
       "4  Journal of Applied Polymer Science     133     47     44251         NaN   \n",
       "\n",
       "         9   ...    44     45         46                             47  \\\n",
       "0  Page end  ...  ISBN  CODEN  PubMed ID  Language of Original Document   \n",
       "1       298  ...   NaN  ICRDE        NaN                        English   \n",
       "2       228  ...   NaN  JCREE   27498019                        English   \n",
       "3       301  ...   NaN  ICRDE        NaN                        English   \n",
       "4       NaN  ...   NaN  JAPNA        NaN                        English   \n",
       "\n",
       "                         48             49                 50  \\\n",
       "0  Abbreviated Source Title  Document Type  Publication Stage   \n",
       "1          Ind. Crops Prod.        Article              Final   \n",
       "2       J. Control. Release        Article              Final   \n",
       "3          Ind. Crops Prod.        Article              Final   \n",
       "4      J. Appl. Polym. Sci.        Article              Final   \n",
       "\n",
       "                       51      52                  53  \n",
       "0             Open Access  Source                 EID  \n",
       "1                     NaN  Scopus  2-s2.0-84984971060  \n",
       "2  All Open Access, Green  Scopus  2-s2.0-84996497392  \n",
       "3                     NaN  Scopus  2-s2.0-84954271328  \n",
       "4                     NaN  Scopus  2-s2.0-84981505050  \n",
       "\n",
       "[5 rows x 54 columns]"
      ]
     },
     "execution_count": 14,
     "metadata": {},
     "output_type": "execute_result"
    }
   ],
   "source": [
    "df.head()"
   ]
  },
  {
   "cell_type": "code",
   "execution_count": 15,
   "id": "14ef9dff",
   "metadata": {},
   "outputs": [],
   "source": [
    "df=df.drop_duplicates()"
   ]
  },
  {
   "cell_type": "code",
   "execution_count": 16,
   "id": "b90062a6",
   "metadata": {},
   "outputs": [],
   "source": [
    "test=pd.read_csv('scopus 1 22-17.csv')"
   ]
  },
  {
   "cell_type": "markdown",
   "id": "ca5ab3f4",
   "metadata": {},
   "source": [
    "### drop first row of dataframe"
   ]
  },
  {
   "cell_type": "code",
   "execution_count": 17,
   "id": "834717b3",
   "metadata": {},
   "outputs": [],
   "source": [
    "df=df.drop([0], axis=0)"
   ]
  },
  {
   "cell_type": "code",
   "execution_count": 18,
   "id": "d54830f6",
   "metadata": {
    "collapsed": true
   },
   "outputs": [
    {
     "data": {
      "text/html": [
       "<div>\n",
       "<style scoped>\n",
       "    .dataframe tbody tr th:only-of-type {\n",
       "        vertical-align: middle;\n",
       "    }\n",
       "\n",
       "    .dataframe tbody tr th {\n",
       "        vertical-align: top;\n",
       "    }\n",
       "\n",
       "    .dataframe thead th {\n",
       "        text-align: right;\n",
       "    }\n",
       "</style>\n",
       "<table border=\"1\" class=\"dataframe\">\n",
       "  <thead>\n",
       "    <tr style=\"text-align: right;\">\n",
       "      <th></th>\n",
       "      <th>0</th>\n",
       "      <th>1</th>\n",
       "      <th>2</th>\n",
       "      <th>3</th>\n",
       "      <th>4</th>\n",
       "      <th>5</th>\n",
       "      <th>6</th>\n",
       "      <th>7</th>\n",
       "      <th>8</th>\n",
       "      <th>9</th>\n",
       "      <th>...</th>\n",
       "      <th>44</th>\n",
       "      <th>45</th>\n",
       "      <th>46</th>\n",
       "      <th>47</th>\n",
       "      <th>48</th>\n",
       "      <th>49</th>\n",
       "      <th>50</th>\n",
       "      <th>51</th>\n",
       "      <th>52</th>\n",
       "      <th>53</th>\n",
       "    </tr>\n",
       "  </thead>\n",
       "  <tbody>\n",
       "    <tr>\n",
       "      <th>1</th>\n",
       "      <td>Oyola-Reynoso S., Kihereko D., Chang B.S., Mwa...</td>\n",
       "      <td>56440075700;57190980014;57189848720;5719098424...</td>\n",
       "      <td>Substituting Plastic Casings with Hydrophobic ...</td>\n",
       "      <td>2016</td>\n",
       "      <td>Industrial Crops and Products</td>\n",
       "      <td>94</td>\n",
       "      <td>NaN</td>\n",
       "      <td>NaN</td>\n",
       "      <td>294</td>\n",
       "      <td>298</td>\n",
       "      <td>...</td>\n",
       "      <td>NaN</td>\n",
       "      <td>ICRDE</td>\n",
       "      <td>NaN</td>\n",
       "      <td>English</td>\n",
       "      <td>Ind. Crops Prod.</td>\n",
       "      <td>Article</td>\n",
       "      <td>Final</td>\n",
       "      <td>NaN</td>\n",
       "      <td>Scopus</td>\n",
       "      <td>2-s2.0-84984971060</td>\n",
       "    </tr>\n",
       "    <tr>\n",
       "      <th>2</th>\n",
       "      <td>Kakde D., Powell L.G., Bansal K.K., Howdle S.,...</td>\n",
       "      <td>37000955200;51161823500;37000454400;7005110432...</td>\n",
       "      <td>Synthesis, characterization and evaluation of ...</td>\n",
       "      <td>2016</td>\n",
       "      <td>Journal of Controlled Release</td>\n",
       "      <td>244</td>\n",
       "      <td>NaN</td>\n",
       "      <td>NaN</td>\n",
       "      <td>214</td>\n",
       "      <td>228</td>\n",
       "      <td>...</td>\n",
       "      <td>NaN</td>\n",
       "      <td>JCREE</td>\n",
       "      <td>27498019</td>\n",
       "      <td>English</td>\n",
       "      <td>J. Control. Release</td>\n",
       "      <td>Article</td>\n",
       "      <td>Final</td>\n",
       "      <td>All Open Access, Green</td>\n",
       "      <td>Scopus</td>\n",
       "      <td>2-s2.0-84996497392</td>\n",
       "    </tr>\n",
       "    <tr>\n",
       "      <th>3</th>\n",
       "      <td>Arrieta M.P., López J., López D., Kenny J.M., ...</td>\n",
       "      <td>55344758200;57190023159;57196874313;5721842016...</td>\n",
       "      <td>Biodegradable electrospun bionanocomposite fib...</td>\n",
       "      <td>2016</td>\n",
       "      <td>Industrial Crops and Products</td>\n",
       "      <td>93</td>\n",
       "      <td>NaN</td>\n",
       "      <td>NaN</td>\n",
       "      <td>290</td>\n",
       "      <td>301</td>\n",
       "      <td>...</td>\n",
       "      <td>NaN</td>\n",
       "      <td>ICRDE</td>\n",
       "      <td>NaN</td>\n",
       "      <td>English</td>\n",
       "      <td>Ind. Crops Prod.</td>\n",
       "      <td>Article</td>\n",
       "      <td>Final</td>\n",
       "      <td>NaN</td>\n",
       "      <td>Scopus</td>\n",
       "      <td>2-s2.0-84954271328</td>\n",
       "    </tr>\n",
       "    <tr>\n",
       "      <th>4</th>\n",
       "      <td>Rattanapan S., Pasetto P., Pilard J.-F., Tanra...</td>\n",
       "      <td>35734879200;25634847700;6603910497;6603250296;</td>\n",
       "      <td>Polyurethane foams from oligomers derived from...</td>\n",
       "      <td>2016</td>\n",
       "      <td>Journal of Applied Polymer Science</td>\n",
       "      <td>133</td>\n",
       "      <td>47</td>\n",
       "      <td>44251</td>\n",
       "      <td>NaN</td>\n",
       "      <td>NaN</td>\n",
       "      <td>...</td>\n",
       "      <td>NaN</td>\n",
       "      <td>JAPNA</td>\n",
       "      <td>NaN</td>\n",
       "      <td>English</td>\n",
       "      <td>J. Appl. Polym. Sci.</td>\n",
       "      <td>Article</td>\n",
       "      <td>Final</td>\n",
       "      <td>NaN</td>\n",
       "      <td>Scopus</td>\n",
       "      <td>2-s2.0-84981505050</td>\n",
       "    </tr>\n",
       "    <tr>\n",
       "      <th>5</th>\n",
       "      <td>Epsztein R., Beliavski M., Tarre S., Green M.</td>\n",
       "      <td>54580913800;6507505515;6603925796;24456921900;</td>\n",
       "      <td>Simplified model for hydrogenotrophic denitrif...</td>\n",
       "      <td>2016</td>\n",
       "      <td>Chemical Engineering Journal</td>\n",
       "      <td>306</td>\n",
       "      <td>NaN</td>\n",
       "      <td>NaN</td>\n",
       "      <td>233</td>\n",
       "      <td>241</td>\n",
       "      <td>...</td>\n",
       "      <td>NaN</td>\n",
       "      <td>CMEJA</td>\n",
       "      <td>NaN</td>\n",
       "      <td>English</td>\n",
       "      <td>Chem. Eng. J.</td>\n",
       "      <td>Article</td>\n",
       "      <td>Final</td>\n",
       "      <td>NaN</td>\n",
       "      <td>Scopus</td>\n",
       "      <td>2-s2.0-84979300118</td>\n",
       "    </tr>\n",
       "  </tbody>\n",
       "</table>\n",
       "<p>5 rows × 54 columns</p>\n",
       "</div>"
      ],
      "text/plain": [
       "                                                  0   \\\n",
       "1  Oyola-Reynoso S., Kihereko D., Chang B.S., Mwa...   \n",
       "2  Kakde D., Powell L.G., Bansal K.K., Howdle S.,...   \n",
       "3  Arrieta M.P., López J., López D., Kenny J.M., ...   \n",
       "4  Rattanapan S., Pasetto P., Pilard J.-F., Tanra...   \n",
       "5      Epsztein R., Beliavski M., Tarre S., Green M.   \n",
       "\n",
       "                                                  1   \\\n",
       "1  56440075700;57190980014;57189848720;5719098424...   \n",
       "2  37000955200;51161823500;37000454400;7005110432...   \n",
       "3  55344758200;57190023159;57196874313;5721842016...   \n",
       "4     35734879200;25634847700;6603910497;6603250296;   \n",
       "5     54580913800;6507505515;6603925796;24456921900;   \n",
       "\n",
       "                                                  2     3   \\\n",
       "1  Substituting Plastic Casings with Hydrophobic ...  2016   \n",
       "2  Synthesis, characterization and evaluation of ...  2016   \n",
       "3  Biodegradable electrospun bionanocomposite fib...  2016   \n",
       "4  Polyurethane foams from oligomers derived from...  2016   \n",
       "5  Simplified model for hydrogenotrophic denitrif...  2016   \n",
       "\n",
       "                                   4    5    6      7    8    9   ...   44  \\\n",
       "1       Industrial Crops and Products   94  NaN    NaN  294  298  ...  NaN   \n",
       "2       Journal of Controlled Release  244  NaN    NaN  214  228  ...  NaN   \n",
       "3       Industrial Crops and Products   93  NaN    NaN  290  301  ...  NaN   \n",
       "4  Journal of Applied Polymer Science  133   47  44251  NaN  NaN  ...  NaN   \n",
       "5        Chemical Engineering Journal  306  NaN    NaN  233  241  ...  NaN   \n",
       "\n",
       "      45        46       47                    48       49     50  \\\n",
       "1  ICRDE       NaN  English      Ind. Crops Prod.  Article  Final   \n",
       "2  JCREE  27498019  English   J. Control. Release  Article  Final   \n",
       "3  ICRDE       NaN  English      Ind. Crops Prod.  Article  Final   \n",
       "4  JAPNA       NaN  English  J. Appl. Polym. Sci.  Article  Final   \n",
       "5  CMEJA       NaN  English         Chem. Eng. J.  Article  Final   \n",
       "\n",
       "                       51      52                  53  \n",
       "1                     NaN  Scopus  2-s2.0-84984971060  \n",
       "2  All Open Access, Green  Scopus  2-s2.0-84996497392  \n",
       "3                     NaN  Scopus  2-s2.0-84954271328  \n",
       "4                     NaN  Scopus  2-s2.0-84981505050  \n",
       "5                     NaN  Scopus  2-s2.0-84979300118  \n",
       "\n",
       "[5 rows x 54 columns]"
      ]
     },
     "execution_count": 18,
     "metadata": {},
     "output_type": "execute_result"
    }
   ],
   "source": [
    "df.head()"
   ]
  },
  {
   "cell_type": "code",
   "execution_count": 19,
   "id": "9e570f0b",
   "metadata": {},
   "outputs": [],
   "source": [
    "df.columns=test.columns"
   ]
  },
  {
   "cell_type": "code",
   "execution_count": 20,
   "id": "167a5f66",
   "metadata": {
    "collapsed": true
   },
   "outputs": [
    {
     "name": "stdout",
     "output_type": "stream",
     "text": [
      "1991 19\n",
      "1992 42\n",
      "1993 41\n",
      "1994 58\n",
      "1995 32\n",
      "1996 47\n",
      "1997 62\n",
      "1998 67\n",
      "1999 83\n",
      "2000 96\n",
      "2001 75\n",
      "2002 76\n",
      "2003 114\n",
      "2004 101\n",
      "2005 105\n",
      "2006 108\n",
      "2007 90\n",
      "2008 107\n",
      "2009 135\n",
      "2010 144\n",
      "2011 154\n",
      "2012 147\n",
      "2013 140\n",
      "2014 161\n",
      "2015 169\n",
      "2016 173\n",
      "2017 176\n",
      "2018 210\n",
      "2019 269\n",
      "2020 346\n",
      "2021 475\n",
      "2022 446\n"
     ]
    }
   ],
   "source": [
    "for i in range(1991,2023):\n",
    "    print(i,collections.Counter(df.Year.values)[str(i)])"
   ]
  },
  {
   "cell_type": "markdown",
   "id": "95602465",
   "metadata": {},
   "source": [
    "## Get manual search reacord for scopus for curated data set"
   ]
  },
  {
   "cell_type": "code",
   "execution_count": 21,
   "id": "6a153d2c",
   "metadata": {},
   "outputs": [
    {
     "name": "stdout",
     "output_type": "stream",
     "text": [
      "/home/sunny\n"
     ]
    }
   ],
   "source": [
    "cd"
   ]
  },
  {
   "cell_type": "code",
   "execution_count": 22,
   "id": "23387717",
   "metadata": {},
   "outputs": [
    {
     "name": "stdout",
     "output_type": "stream",
     "text": [
      "/home/sunny/plastic submission\n"
     ]
    }
   ],
   "source": [
    "cd plastic\\ submission"
   ]
  },
  {
   "cell_type": "code",
   "execution_count": 23,
   "id": "08334f50",
   "metadata": {},
   "outputs": [
    {
     "name": "stdout",
     "output_type": "stream",
     "text": [
      "/home/sunny/plastic submission/scopus data combine direct plus manual \n"
     ]
    }
   ],
   "source": [
    "cd 'scopus data combine direct plus manual /'"
   ]
  },
  {
   "cell_type": "code",
   "execution_count": 24,
   "id": "a7c1199e",
   "metadata": {},
   "outputs": [
    {
     "name": "stdout",
     "output_type": "stream",
     "text": [
      " combine_doi.pkl\r\n",
      "'data put together.ipynb'\r\n",
      "\u001b[0m\u001b[01;34m'keyword network and community detection'\u001b[0m/\r\n",
      " scopus_english_article.csv\r\n",
      " scopus_english_local.csv\r\n",
      " scopus_manual_search.csv\r\n",
      "\u001b[01;34m'Topic modelling  on scopus literature '\u001b[0m/\r\n"
     ]
    }
   ],
   "source": [
    "ls"
   ]
  },
  {
   "cell_type": "code",
   "execution_count": 25,
   "id": "c6f5b94c",
   "metadata": {},
   "outputs": [],
   "source": [
    "manual=pd.read_csv('scopus_manual_search.csv')"
   ]
  },
  {
   "cell_type": "code",
   "execution_count": 26,
   "id": "b2eec07c",
   "metadata": {},
   "outputs": [],
   "source": [
    "df_manual=pd.DataFrame(manual)"
   ]
  },
  {
   "cell_type": "code",
   "execution_count": 27,
   "id": "8190768d",
   "metadata": {},
   "outputs": [],
   "source": [
    "import pickle"
   ]
  },
  {
   "cell_type": "code",
   "execution_count": 28,
   "id": "6fd0e436",
   "metadata": {},
   "outputs": [],
   "source": [
    "with open('combine_doi.pkl','rb') as f:\n",
    "    local_doi=pickle.load(f)"
   ]
  },
  {
   "cell_type": "code",
   "execution_count": 29,
   "id": "59f60434",
   "metadata": {},
   "outputs": [
    {
     "data": {
      "text/plain": [
       "483"
      ]
     },
     "execution_count": 29,
     "metadata": {},
     "output_type": "execute_result"
    }
   ],
   "source": [
    "len(local_doi)"
   ]
  },
  {
   "cell_type": "code",
   "execution_count": 30,
   "id": "407efdbb",
   "metadata": {},
   "outputs": [
    {
     "data": {
      "text/plain": [
       "175"
      ]
     },
     "execution_count": 30,
     "metadata": {},
     "output_type": "execute_result"
    }
   ],
   "source": [
    "len(set(df['DOI'].values).intersection(local_doi))"
   ]
  },
  {
   "cell_type": "code",
   "execution_count": 31,
   "id": "feeb06f2",
   "metadata": {},
   "outputs": [
    {
     "data": {
      "text/plain": [
       "229"
      ]
     },
     "execution_count": 31,
     "metadata": {},
     "output_type": "execute_result"
    }
   ],
   "source": [
    "len(set(df_manual['DOI'].values).intersection(local_doi))"
   ]
  },
  {
   "cell_type": "code",
   "execution_count": 32,
   "id": "779a5a00",
   "metadata": {},
   "outputs": [
    {
     "data": {
      "text/plain": [
       "(255, 54)"
      ]
     },
     "execution_count": 32,
     "metadata": {},
     "output_type": "execute_result"
    }
   ],
   "source": [
    "df_manual.shape"
   ]
  },
  {
   "cell_type": "code",
   "execution_count": 34,
   "id": "3c3004ca",
   "metadata": {},
   "outputs": [],
   "source": [
    "local_doi=local_doi[1:]"
   ]
  },
  {
   "cell_type": "code",
   "execution_count": 35,
   "id": "db541080",
   "metadata": {},
   "outputs": [
    {
     "data": {
      "text/plain": [
       "254"
      ]
     },
     "execution_count": 35,
     "metadata": {},
     "output_type": "execute_result"
    }
   ],
   "source": [
    "len(set([i.lower() for i in df_manual['DOI'].values]).intersection([i.lower() for i in local_doi]))"
   ]
  },
  {
   "cell_type": "code",
   "execution_count": 36,
   "id": "78fa3121",
   "metadata": {
    "collapsed": true
   },
   "outputs": [
    {
     "ename": "AttributeError",
     "evalue": "'float' object has no attribute 'lower'",
     "output_type": "error",
     "traceback": [
      "\u001b[0;31m---------------------------------------------------------------------------\u001b[0m",
      "\u001b[0;31mAttributeError\u001b[0m                            Traceback (most recent call last)",
      "\u001b[0;32m/tmp/ipykernel_25030/1265328066.py\u001b[0m in \u001b[0;36m<module>\u001b[0;34m\u001b[0m\n\u001b[0;32m----> 1\u001b[0;31m \u001b[0mlen\u001b[0m\u001b[0;34m(\u001b[0m\u001b[0mset\u001b[0m\u001b[0;34m(\u001b[0m\u001b[0;34m[\u001b[0m\u001b[0mi\u001b[0m\u001b[0;34m.\u001b[0m\u001b[0mlower\u001b[0m\u001b[0;34m(\u001b[0m\u001b[0;34m)\u001b[0m \u001b[0;32mfor\u001b[0m \u001b[0mi\u001b[0m \u001b[0;32min\u001b[0m \u001b[0mdf\u001b[0m\u001b[0;34m[\u001b[0m\u001b[0;34m'DOI'\u001b[0m\u001b[0;34m]\u001b[0m\u001b[0;34m.\u001b[0m\u001b[0mvalues\u001b[0m\u001b[0;34m]\u001b[0m\u001b[0;34m)\u001b[0m\u001b[0;34m.\u001b[0m\u001b[0mintersection\u001b[0m\u001b[0;34m(\u001b[0m\u001b[0;34m[\u001b[0m\u001b[0mi\u001b[0m\u001b[0;34m.\u001b[0m\u001b[0mlower\u001b[0m\u001b[0;34m(\u001b[0m\u001b[0;34m)\u001b[0m \u001b[0;32mfor\u001b[0m \u001b[0mi\u001b[0m \u001b[0;32min\u001b[0m \u001b[0mlocal_doi\u001b[0m\u001b[0;34m]\u001b[0m\u001b[0;34m)\u001b[0m\u001b[0;34m)\u001b[0m\u001b[0;34m\u001b[0m\u001b[0;34m\u001b[0m\u001b[0m\n\u001b[0m",
      "\u001b[0;32m/tmp/ipykernel_25030/1265328066.py\u001b[0m in \u001b[0;36m<listcomp>\u001b[0;34m(.0)\u001b[0m\n\u001b[0;32m----> 1\u001b[0;31m \u001b[0mlen\u001b[0m\u001b[0;34m(\u001b[0m\u001b[0mset\u001b[0m\u001b[0;34m(\u001b[0m\u001b[0;34m[\u001b[0m\u001b[0mi\u001b[0m\u001b[0;34m.\u001b[0m\u001b[0mlower\u001b[0m\u001b[0;34m(\u001b[0m\u001b[0;34m)\u001b[0m \u001b[0;32mfor\u001b[0m \u001b[0mi\u001b[0m \u001b[0;32min\u001b[0m \u001b[0mdf\u001b[0m\u001b[0;34m[\u001b[0m\u001b[0;34m'DOI'\u001b[0m\u001b[0;34m]\u001b[0m\u001b[0;34m.\u001b[0m\u001b[0mvalues\u001b[0m\u001b[0;34m]\u001b[0m\u001b[0;34m)\u001b[0m\u001b[0;34m.\u001b[0m\u001b[0mintersection\u001b[0m\u001b[0;34m(\u001b[0m\u001b[0;34m[\u001b[0m\u001b[0mi\u001b[0m\u001b[0;34m.\u001b[0m\u001b[0mlower\u001b[0m\u001b[0;34m(\u001b[0m\u001b[0;34m)\u001b[0m \u001b[0;32mfor\u001b[0m \u001b[0mi\u001b[0m \u001b[0;32min\u001b[0m \u001b[0mlocal_doi\u001b[0m\u001b[0;34m]\u001b[0m\u001b[0;34m)\u001b[0m\u001b[0;34m)\u001b[0m\u001b[0;34m\u001b[0m\u001b[0;34m\u001b[0m\u001b[0m\n\u001b[0m",
      "\u001b[0;31mAttributeError\u001b[0m: 'float' object has no attribute 'lower'"
     ]
    }
   ],
   "source": [
    "len(set([i.lower() for i in df['DOI'].values]).intersection([i.lower() for i in local_doi]))"
   ]
  },
  {
   "cell_type": "code",
   "execution_count": 37,
   "id": "c6610d62",
   "metadata": {},
   "outputs": [
    {
     "data": {
      "text/plain": [
       "181"
      ]
     },
     "execution_count": 37,
     "metadata": {},
     "output_type": "execute_result"
    }
   ],
   "source": [
    "len(set([i.lower() if type(i)==str else 'nan' for i in df['DOI'].values ]).intersection([i.lower() for i in local_doi]))"
   ]
  },
  {
   "cell_type": "code",
   "execution_count": 38,
   "id": "5e26fe2b",
   "metadata": {},
   "outputs": [
    {
     "data": {
      "text/plain": [
       "482"
      ]
     },
     "execution_count": 38,
     "metadata": {},
     "output_type": "execute_result"
    }
   ],
   "source": [
    "len(set([i.lower() for i in local_doi]))"
   ]
  },
  {
   "cell_type": "code",
   "execution_count": 39,
   "id": "2e7632b6",
   "metadata": {},
   "outputs": [
    {
     "data": {
      "text/plain": [
       "12"
      ]
     },
     "execution_count": 39,
     "metadata": {},
     "output_type": "execute_result"
    }
   ],
   "source": [
    "len(set([i.lower() if type(i)==str else 'nan' for i in df['DOI'].values ]).intersection([i.lower() for i in df_manual['DOI'].values]))"
   ]
  },
  {
   "cell_type": "code",
   "execution_count": 40,
   "id": "b6c450b2",
   "metadata": {},
   "outputs": [
    {
     "data": {
      "text/plain": [
       "423"
      ]
     },
     "execution_count": 40,
     "metadata": {},
     "output_type": "execute_result"
    }
   ],
   "source": [
    "181+254-12"
   ]
  },
  {
   "cell_type": "code",
   "execution_count": 41,
   "id": "d3e04bb9",
   "metadata": {},
   "outputs": [
    {
     "data": {
      "text/plain": [
       "482"
      ]
     },
     "execution_count": 41,
     "metadata": {},
     "output_type": "execute_result"
    }
   ],
   "source": [
    "len(set([i.lower() for i in local_doi]))"
   ]
  },
  {
   "cell_type": "code",
   "execution_count": 42,
   "id": "91303058",
   "metadata": {},
   "outputs": [
    {
     "data": {
      "text/plain": [
       "59"
      ]
     },
     "execution_count": 42,
     "metadata": {},
     "output_type": "execute_result"
    }
   ],
   "source": [
    "482-423"
   ]
  },
  {
   "cell_type": "markdown",
   "id": "a508be35",
   "metadata": {},
   "source": [
    "### There are 59 records in the local database which are not found in scopus either  keywords based nor manual search  "
   ]
  },
  {
   "cell_type": "code",
   "execution_count": null,
   "id": "0313784c",
   "metadata": {},
   "outputs": [],
   "source": []
  },
  {
   "cell_type": "markdown",
   "id": "769a74ff",
   "metadata": {},
   "source": [
    "## Concatenate both dataframe"
   ]
  },
  {
   "cell_type": "code",
   "execution_count": 43,
   "id": "961945d0",
   "metadata": {},
   "outputs": [
    {
     "data": {
      "text/plain": [
       "(4918, 54)"
      ]
     },
     "execution_count": 43,
     "metadata": {},
     "output_type": "execute_result"
    }
   ],
   "source": [
    "pd.concat([df,df_manual]).shape"
   ]
  },
  {
   "cell_type": "code",
   "execution_count": 44,
   "id": "73b77f96",
   "metadata": {},
   "outputs": [
    {
     "data": {
      "text/plain": [
       "(4918, 54)"
      ]
     },
     "execution_count": 44,
     "metadata": {},
     "output_type": "execute_result"
    }
   ],
   "source": [
    "pd.concat([df,df_manual]).drop_duplicates().shape"
   ]
  },
  {
   "cell_type": "code",
   "execution_count": 45,
   "id": "e1ff2507",
   "metadata": {},
   "outputs": [],
   "source": [
    "df_combine=pd.concat([df,df_manual])"
   ]
  },
  {
   "cell_type": "code",
   "execution_count": 46,
   "id": "85dcc94e",
   "metadata": {},
   "outputs": [
    {
     "data": {
      "text/plain": [
       "(4918, 54)"
      ]
     },
     "execution_count": 46,
     "metadata": {},
     "output_type": "execute_result"
    }
   ],
   "source": [
    "df_combine.shape"
   ]
  },
  {
   "cell_type": "markdown",
   "id": "ae590261",
   "metadata": {},
   "source": [
    "# Year Filter"
   ]
  },
  {
   "cell_type": "code",
   "execution_count": 47,
   "id": "4a9e76f7",
   "metadata": {},
   "outputs": [
    {
     "data": {
      "text/plain": [
       "(4715, 54)"
      ]
     },
     "execution_count": 47,
     "metadata": {},
     "output_type": "execute_result"
    }
   ],
   "source": [
    "year=[i for i in range(1991,2023)]\n",
    "df_combine.loc[[True if int(i) in year else False for i in df_combine['Year'].values]].shape"
   ]
  },
  {
   "cell_type": "code",
   "execution_count": 48,
   "id": "aff090e7",
   "metadata": {},
   "outputs": [
    {
     "data": {
      "text/plain": [
       "203"
      ]
     },
     "execution_count": 48,
     "metadata": {},
     "output_type": "execute_result"
    }
   ],
   "source": [
    "4918-4715"
   ]
  },
  {
   "cell_type": "code",
   "execution_count": 49,
   "id": "7e1eb69f",
   "metadata": {},
   "outputs": [],
   "source": [
    "df_1991=df_combine.loc[[True if int(i) in year else False for i in df_combine['Year'].values]]"
   ]
  },
  {
   "cell_type": "code",
   "execution_count": 51,
   "id": "ddbaaf5b",
   "metadata": {},
   "outputs": [],
   "source": [
    "year_dic=collections.Counter([int(i) for i in df_1991['Year'].values])"
   ]
  },
  {
   "cell_type": "code",
   "execution_count": 52,
   "id": "102b649d",
   "metadata": {
    "collapsed": true
   },
   "outputs": [
    {
     "data": {
      "text/plain": [
       "Counter({2016: 186,\n",
       "         2015: 179,\n",
       "         2014: 168,\n",
       "         2013: 153,\n",
       "         2012: 154,\n",
       "         2011: 166,\n",
       "         2010: 153,\n",
       "         2009: 142,\n",
       "         2008: 117,\n",
       "         2007: 106,\n",
       "         2006: 116,\n",
       "         2005: 110,\n",
       "         2004: 106,\n",
       "         2003: 122,\n",
       "         2002: 83,\n",
       "         2001: 80,\n",
       "         2000: 103,\n",
       "         1999: 94,\n",
       "         1998: 72,\n",
       "         1997: 70,\n",
       "         1996: 50,\n",
       "         1995: 39,\n",
       "         1994: 60,\n",
       "         1993: 43,\n",
       "         1992: 45,\n",
       "         1991: 24,\n",
       "         2022: 447,\n",
       "         2021: 479,\n",
       "         2020: 351,\n",
       "         2019: 278,\n",
       "         2018: 228,\n",
       "         2017: 191})"
      ]
     },
     "execution_count": 52,
     "metadata": {},
     "output_type": "execute_result"
    }
   ],
   "source": [
    "year_dic"
   ]
  },
  {
   "cell_type": "code",
   "execution_count": 53,
   "id": "cb9c8684",
   "metadata": {},
   "outputs": [],
   "source": [
    "year=[i for i in range(1991,2023)]"
   ]
  },
  {
   "cell_type": "code",
   "execution_count": 54,
   "id": "6f25afda",
   "metadata": {},
   "outputs": [],
   "source": [
    "hold=[year_dic[y] for y in year]"
   ]
  },
  {
   "cell_type": "code",
   "execution_count": 55,
   "id": "d1735aab",
   "metadata": {},
   "outputs": [],
   "source": [
    "import matplotlib.pyplot as plt"
   ]
  },
  {
   "cell_type": "code",
   "execution_count": 56,
   "id": "77d56f75",
   "metadata": {
    "collapsed": true
   },
   "outputs": [
    {
     "name": "stderr",
     "output_type": "stream",
     "text": [
      "/home/sunny/anaconda3/lib/python3.7/site-packages/seaborn/_decorators.py:43: FutureWarning: Pass the following variables as keyword args: x, y. From version 0.12, the only valid positional argument will be `data`, and passing other arguments without an explicit keyword will result in an error or misinterpretation.\n",
      "  FutureWarning\n"
     ]
    },
    {
     "data": {
      "text/plain": [
       "<AxesSubplot:>"
      ]
     },
     "execution_count": 56,
     "metadata": {},
     "output_type": "execute_result"
    },
    {
     "data": {
      "image/png": "[encoded data removed]",
      "text/plain": [
       "<Figure size 1008x576 with 1 Axes>"
      ]
     },
     "metadata": {
      "needs_background": "light"
     },
     "output_type": "display_data"
    }
   ],
   "source": [
    "f, ax = plt.subplots(figsize=(14, 8))\n",
    "\n",
    "sns.barplot(year,hold, color='black',ax=ax)"
   ]
  },
  {
   "cell_type": "code",
   "execution_count": 64,
   "id": "50758ade",
   "metadata": {},
   "outputs": [
    {
     "name": "stdout",
     "output_type": "stream",
     "text": [
      "/home/sunny\n"
     ]
    }
   ],
   "source": [
    "cd"
   ]
  },
  {
   "cell_type": "code",
   "execution_count": 68,
   "id": "5d69b146",
   "metadata": {},
   "outputs": [
    {
     "name": "stdout",
     "output_type": "stream",
     "text": [
      "/home/sunny/plastic literature network and modeling\n"
     ]
    }
   ],
   "source": [
    "cd 'plastic literature network and modeling/'"
   ]
  },
  {
   "cell_type": "code",
   "execution_count": 70,
   "id": "873efbc0",
   "metadata": {},
   "outputs": [
    {
     "name": "stdout",
     "output_type": "stream",
     "text": [
      "/home/sunny/plastic literature network and modeling/author network final theis\n"
     ]
    }
   ],
   "source": [
    "cd author\\ network\\ final\\ theis"
   ]
  },
  {
   "cell_type": "code",
   "execution_count": 71,
   "id": "05733ade",
   "metadata": {},
   "outputs": [
    {
     "data": {
      "text/plain": [
       "'/home/sunny/plastic literature network and modeling/author network final theis'"
      ]
     },
     "execution_count": 71,
     "metadata": {},
     "output_type": "execute_result"
    }
   ],
   "source": [
    "pwd"
   ]
  },
  {
   "cell_type": "code",
   "execution_count": 72,
   "id": "c1ebc7e4",
   "metadata": {
    "scrolled": true
   },
   "outputs": [
    {
     "name": "stderr",
     "output_type": "stream",
     "text": [
      "/home/sunny/anaconda3/lib/python3.7/site-packages/seaborn/_decorators.py:43: FutureWarning: Pass the following variables as keyword args: x, y. From version 0.12, the only valid positional argument will be `data`, and passing other arguments without an explicit keyword will result in an error or misinterpretation.\n",
      "  FutureWarning\n"
     ]
    },
    {
     "data": {
      "image/png": "[encoded data removed]",
      "text/plain": [
       "<Figure size 1008x576 with 1 Axes>"
      ]
     },
     "metadata": {
      "needs_background": "light"
     },
     "output_type": "display_data"
    }
   ],
   "source": [
    "f, ax = plt.subplots(figsize=(14, 8))\n",
    "\n",
    "sns.barplot(year,hold, color='black',ax=ax)\n",
    "for i, v in enumerate(hold):\n",
    "        plt.text(i-.2, v + 5, str(v))\n",
    "    \n",
    "ax.set_xticklabels(year, rotation=25)\n",
    "ax.set_title('Number of publication in years (1991-2022)', fontsize=20)\n",
    "ax.set_xlabel('Year of publication', fontsize=14)\n",
    "ax.set_ylabel('Number of publication', fontsize=14)\n",
    "f.savefig('Year vs # of publication before other filter.jpg', dpi=400)"
   ]
  },
  {
   "cell_type": "code",
   "execution_count": 73,
   "id": "ce4738ce",
   "metadata": {
    "collapsed": true
   },
   "outputs": [
    {
     "name": "stderr",
     "output_type": "stream",
     "text": [
      "/home/sunny/anaconda3/lib/python3.7/site-packages/seaborn/_decorators.py:43: FutureWarning: Pass the following variables as keyword args: x, y. From version 0.12, the only valid positional argument will be `data`, and passing other arguments without an explicit keyword will result in an error or misinterpretation.\n",
      "  FutureWarning\n"
     ]
    },
    {
     "data": {
      "image/png": "[encoded data removed]",
      "text/plain": [
       "<Figure size 1008x576 with 1 Axes>"
      ]
     },
     "metadata": {
      "needs_background": "light"
     },
     "output_type": "display_data"
    }
   ],
   "source": [
    "f, ax = plt.subplots(figsize=(14, 8))\n",
    "\n",
    "sns.barplot(year,hold, color='black',ax=ax)\n",
    "for i, v in enumerate(hold):\n",
    "        plt.text(i-.2, v + 5, str(v))\n",
    "    \n",
    "ax.set_xticklabels(year, rotation=25)\n",
    "ax.set_title('Number of publication in years (1991-2022)', fontsize=20)\n",
    "ax.set_xlabel('Year of publication', fontsize=14)\n",
    "ax.set_ylabel('Number of publication', fontsize=14)\n",
    "f.savefig('Year vs # of publication before other filter.png', dpi=400)"
   ]
  },
  {
   "cell_type": "code",
   "execution_count": null,
   "id": "7bc4bf45",
   "metadata": {},
   "outputs": [],
   "source": []
  },
  {
   "cell_type": "code",
   "execution_count": null,
   "id": "9c806e63",
   "metadata": {},
   "outputs": [],
   "source": []
  },
  {
   "cell_type": "code",
   "execution_count": null,
   "id": "e969b85a",
   "metadata": {},
   "outputs": [],
   "source": []
  },
  {
   "cell_type": "code",
   "execution_count": null,
   "id": "5100db83",
   "metadata": {},
   "outputs": [],
   "source": []
  },
  {
   "cell_type": "code",
   "execution_count": null,
   "id": "19538059",
   "metadata": {},
   "outputs": [],
   "source": []
  },
  {
   "cell_type": "markdown",
   "id": "93d27e13",
   "metadata": {},
   "source": [
    "## Language filter "
   ]
  },
  {
   "cell_type": "code",
   "execution_count": 50,
   "id": "5cb69218",
   "metadata": {
    "scrolled": true
   },
   "outputs": [
    {
     "data": {
      "text/plain": [
       "English                                   4505\n",
       "Chinese                                     87\n",
       "Japanese                                    37\n",
       "German                                      13\n",
       "Russian                                     12\n",
       "Portuguese                                  10\n",
       "Polish                                      10\n",
       "French                                       7\n",
       "Spanish                                      7\n",
       "German; English                              6\n",
       "Croatian                                     2\n",
       "English; Turkish                             2\n",
       "Bosnian                                      2\n",
       "English; Spanish                             2\n",
       "English; Portuguese                          2\n",
       "Korean                                       2\n",
       "English; German                              2\n",
       "English; Romanian; Moldavian; Moldovan       1\n",
       "English; Polish                              1\n",
       "Ukrainian                                    1\n",
       "Persian                                      1\n",
       "Polish; English                              1\n",
       "English; Japanese                            1\n",
       "Name: Language of Original Document, dtype: int64"
      ]
     },
     "execution_count": 50,
     "metadata": {},
     "output_type": "execute_result"
    }
   ],
   "source": [
    "df_1991['Language of Original Document'].value_counts()"
   ]
  },
  {
   "cell_type": "code",
   "execution_count": 74,
   "id": "e11b5afc",
   "metadata": {},
   "outputs": [],
   "source": [
    "import numpy as np"
   ]
  },
  {
   "cell_type": "code",
   "execution_count": 77,
   "id": "f391a219",
   "metadata": {},
   "outputs": [],
   "source": [
    "laguage_dic=collections.Counter(df_1991['Language of Original Document'].values)"
   ]
  },
  {
   "cell_type": "code",
   "execution_count": 86,
   "id": "798b05ad",
   "metadata": {},
   "outputs": [],
   "source": [
    "laguage_dic_sort=dict(sorted(laguage_dic.items(), key=lambda x:x[1],reverse=True))"
   ]
  },
  {
   "cell_type": "code",
   "execution_count": 101,
   "id": "48910299",
   "metadata": {},
   "outputs": [],
   "source": [
    "v=[np.log(laguage_dic[i]) for i in laguage_dic_sort][:10]"
   ]
  },
  {
   "cell_type": "code",
   "execution_count": 113,
   "id": "4cce414b",
   "metadata": {
    "scrolled": true
   },
   "outputs": [
    {
     "name": "stderr",
     "output_type": "stream",
     "text": [
      "/home/sunny/anaconda3/lib/python3.7/site-packages/seaborn/_decorators.py:43: FutureWarning: Pass the following variables as keyword args: x, y. From version 0.12, the only valid positional argument will be `data`, and passing other arguments without an explicit keyword will result in an error or misinterpretation.\n",
      "  FutureWarning\n"
     ]
    },
    {
     "data": {
      "image/png": "[encoded data removed]",
      "text/plain": [
       "<Figure size 1008x576 with 1 Axes>"
      ]
     },
     "metadata": {
      "needs_background": "light"
     },
     "output_type": "display_data"
    }
   ],
   "source": [
    "f, ax = plt.subplots(figsize=(14, 8))\n",
    "\n",
    "sns.barplot(list(laguage_dic_sort.keys())[:10],[np.log(laguage_dic[i]) for i in laguage_dic_sort][:10], color='black',ax=ax)\n",
    "for i in range(10):\n",
    "        plt.text(i-.1, v[i]+.1, str(s[i]),fontsize=12)\n",
    "ax.set_title('Number of publication for top 10 languages', fontsize=20)\n",
    "ax.set_xlabel('Languages', fontsize=16)\n",
    "ax.set_ylabel('Number of publication (log transform)', fontsize=14)\n",
    "f.savefig('Number of publication for top 10 languages.jpeg', dpi=400)        "
   ]
  },
  {
   "cell_type": "code",
   "execution_count": null,
   "id": "d6efd6cd",
   "metadata": {},
   "outputs": [],
   "source": []
  },
  {
   "cell_type": "code",
   "execution_count": 104,
   "id": "eddab281",
   "metadata": {},
   "outputs": [],
   "source": [
    "s=[laguage_dic_sort[i] for i in laguage_dic_sort][:10]"
   ]
  },
  {
   "cell_type": "code",
   "execution_count": 114,
   "id": "d7818d5e",
   "metadata": {
    "collapsed": true
   },
   "outputs": [
    {
     "name": "stderr",
     "output_type": "stream",
     "text": [
      "/home/sunny/anaconda3/lib/python3.7/site-packages/seaborn/_decorators.py:43: FutureWarning: Pass the following variables as keyword args: x, y. From version 0.12, the only valid positional argument will be `data`, and passing other arguments without an explicit keyword will result in an error or misinterpretation.\n",
      "  FutureWarning\n"
     ]
    },
    {
     "data": {
      "image/png": "[encoded data removed]",
      "text/plain": [
       "<Figure size 1008x576 with 1 Axes>"
      ]
     },
     "metadata": {
      "needs_background": "light"
     },
     "output_type": "display_data"
    }
   ],
   "source": [
    "f, ax = plt.subplots(figsize=(14, 8))\n",
    "\n",
    "sns.barplot(list(laguage_dic_sort.keys())[:10],[np.log(laguage_dic[i]) for i in laguage_dic_sort][:10], color='black',ax=ax)\n",
    "for i in range(10):\n",
    "        plt.text(i-.1, v[i]+.1, str(s[i]),fontsize=12)\n",
    "ax.set_title('Number of publication for top 10 languages', fontsize=20)\n",
    "ax.set_xlabel('Languages', fontsize=16)\n",
    "ax.set_ylabel('Number of publication (log transform)', fontsize=14)\n",
    "f.savefig('Number of publication for top 10 languages.png', dpi=400)  "
   ]
  },
  {
   "cell_type": "code",
   "execution_count": 115,
   "id": "468cad3d",
   "metadata": {},
   "outputs": [],
   "source": [
    "df_english= df_1991.loc[df_1991['Language of Original Document']=='English']"
   ]
  },
  {
   "cell_type": "code",
   "execution_count": 116,
   "id": "6668873d",
   "metadata": {},
   "outputs": [
    {
     "data": {
      "text/plain": [
       "(4505, 54)"
      ]
     },
     "execution_count": 116,
     "metadata": {},
     "output_type": "execute_result"
    }
   ],
   "source": [
    "df_english.shape"
   ]
  },
  {
   "cell_type": "markdown",
   "id": "651fce5b",
   "metadata": {},
   "source": [
    "## Number of Author filter "
   ]
  },
  {
   "cell_type": "code",
   "execution_count": 117,
   "id": "009b9e0d",
   "metadata": {},
   "outputs": [],
   "source": [
    "author_count=[i.count(';') for i in df_english['Author(s) ID'].values]"
   ]
  },
  {
   "cell_type": "code",
   "execution_count": 122,
   "id": "6d1cc340",
   "metadata": {
    "collapsed": true
   },
   "outputs": [
    {
     "name": "stderr",
     "output_type": "stream",
     "text": [
      "/home/sunny/anaconda3/lib/python3.7/site-packages/seaborn/distributions.py:2619: FutureWarning: `distplot` is a deprecated function and will be removed in a future version. Please adapt your code to use either `displot` (a figure-level function with similar flexibility) or `histplot` (an axes-level function for histograms).\n",
      "  warnings.warn(msg, FutureWarning)\n"
     ]
    },
    {
     "data": {
      "text/plain": [
       "<AxesSubplot:ylabel='Density'>"
      ]
     },
     "execution_count": 122,
     "metadata": {},
     "output_type": "execute_result"
    },
    {
     "data": {
      "image/png": "[encoded data removed]",
      "text/plain": [
       "<Figure size 1008x576 with 1 Axes>"
      ]
     },
     "metadata": {
      "needs_background": "light"
     },
     "output_type": "display_data"
    }
   ],
   "source": [
    "f, ax = plt.subplots(figsize=(14, 8))\n",
    "sns.distplot(author_count)"
   ]
  },
  {
   "cell_type": "code",
   "execution_count": 119,
   "id": "b9519340",
   "metadata": {},
   "outputs": [
    {
     "data": {
      "text/plain": [
       "[No author id available]                                                                      13\n",
       "26647906800;13806042200;7005820688;7003997895;                                                 5\n",
       "57211321818;57211317696;                                                                       3\n",
       "7006864659;7006377786;6602707960;35583992900;6508148504;8201363500;                            3\n",
       "36904426900;35223858800;                                                                       3\n",
       "                                                                                              ..\n",
       "56141061800;7102545780;                                                                        1\n",
       "56316641500;9238781100;7005339950;7003456027;57202516771;7005274396;6602560339;7003597377;     1\n",
       "7202679204;                                                                                    1\n",
       "7004111576;                                                                                    1\n",
       "16219341400;7006491462;7004159507;                                                             1\n",
       "Name: Author(s) ID, Length: 4362, dtype: int64"
      ]
     },
     "execution_count": 119,
     "metadata": {},
     "output_type": "execute_result"
    }
   ],
   "source": [
    "df_english['Author(s) ID'].value_counts()"
   ]
  },
  {
   "cell_type": "code",
   "execution_count": 123,
   "id": "e002bb06",
   "metadata": {},
   "outputs": [],
   "source": [
    "df_english=df_english.loc[~(df_english['Authors']=='[No author name available]')]"
   ]
  },
  {
   "cell_type": "code",
   "execution_count": 124,
   "id": "56ed3405",
   "metadata": {},
   "outputs": [
    {
     "data": {
      "text/plain": [
       "(4492, 54)"
      ]
     },
     "execution_count": 124,
     "metadata": {},
     "output_type": "execute_result"
    }
   ],
   "source": [
    "df_english.shape"
   ]
  },
  {
   "cell_type": "code",
   "execution_count": 125,
   "id": "c90cfd34",
   "metadata": {},
   "outputs": [],
   "source": [
    "author_count=[i.count(';') for i in df_english['Author(s) ID'].values]"
   ]
  },
  {
   "cell_type": "code",
   "execution_count": 130,
   "id": "4e68f5ee",
   "metadata": {
    "collapsed": true
   },
   "outputs": [
    {
     "name": "stderr",
     "output_type": "stream",
     "text": [
      "/home/sunny/anaconda3/lib/python3.7/site-packages/seaborn/distributions.py:2619: FutureWarning: `distplot` is a deprecated function and will be removed in a future version. Please adapt your code to use either `displot` (a figure-level function with similar flexibility) or `histplot` (an axes-level function for histograms).\n",
      "  warnings.warn(msg, FutureWarning)\n"
     ]
    },
    {
     "data": {
      "image/png": "[encoded data removed]",
      "text/plain": [
       "<Figure size 1008x576 with 1 Axes>"
      ]
     },
     "metadata": {
      "needs_background": "light"
     },
     "output_type": "display_data"
    }
   ],
   "source": [
    "f, ax = plt.subplots(figsize=(14, 8))\n",
    "sns.distplot(author_count)\n",
    "ax.vlines([15],0,.1, colors='r')\n",
    "ax.set_title('Distribution of number of authors in records', fontsize=20)\n",
    "ax.set_ylabel('Density', fontsize=16)\n",
    "ax.set_xlabel('Number of Authors', fontsize=14)\n",
    "f.savefig('Distribution of number of authors in records.jpeg', dpi=400) "
   ]
  },
  {
   "cell_type": "code",
   "execution_count": 131,
   "id": "0715ffa7",
   "metadata": {
    "scrolled": true
   },
   "outputs": [
    {
     "name": "stderr",
     "output_type": "stream",
     "text": [
      "/home/sunny/anaconda3/lib/python3.7/site-packages/seaborn/distributions.py:2619: FutureWarning: `distplot` is a deprecated function and will be removed in a future version. Please adapt your code to use either `displot` (a figure-level function with similar flexibility) or `histplot` (an axes-level function for histograms).\n",
      "  warnings.warn(msg, FutureWarning)\n"
     ]
    },
    {
     "data": {
      "image/png": "[encoded data removed]",
      "text/plain": [
       "<Figure size 1008x576 with 1 Axes>"
      ]
     },
     "metadata": {
      "needs_background": "light"
     },
     "output_type": "display_data"
    }
   ],
   "source": [
    "f, ax = plt.subplots(figsize=(14, 8))\n",
    "sns.distplot(author_count)\n",
    "ax.vlines([15],0,.1, colors='r')\n",
    "ax.set_title('Distribution of number of authors in records', fontsize=20)\n",
    "ax.set_ylabel('Density', fontsize=16)\n",
    "ax.set_xlabel('Number of Authors', fontsize=14)\n",
    "f.savefig('Distribution of number of authors in records.png', dpi=400) "
   ]
  },
  {
   "cell_type": "code",
   "execution_count": 132,
   "id": "63757ab8",
   "metadata": {},
   "outputs": [
    {
     "data": {
      "text/plain": [
       "13.0"
      ]
     },
     "execution_count": 132,
     "metadata": {},
     "output_type": "execute_result"
    }
   ],
   "source": [
    "np.percentile(author_count,99)"
   ]
  },
  {
   "cell_type": "code",
   "execution_count": 133,
   "id": "ccc321a9",
   "metadata": {},
   "outputs": [
    {
     "data": {
      "text/plain": [
       "(4469, 54)"
      ]
     },
     "execution_count": 133,
     "metadata": {},
     "output_type": "execute_result"
    }
   ],
   "source": [
    "df_english.loc[[True if i>0 and i< 15 else False for i in author_count]].shape"
   ]
  },
  {
   "cell_type": "code",
   "execution_count": 134,
   "id": "26c21b2d",
   "metadata": {},
   "outputs": [],
   "source": [
    "df_author=df_english.loc[[True if i>0 and i< 15 else False for i in author_count]]"
   ]
  },
  {
   "cell_type": "code",
   "execution_count": 232,
   "id": "c9ca753b",
   "metadata": {},
   "outputs": [
    {
     "data": {
      "text/plain": [
       "(4469, 54)"
      ]
     },
     "execution_count": 232,
     "metadata": {},
     "output_type": "execute_result"
    }
   ],
   "source": [
    "df_author.shape"
   ]
  },
  {
   "cell_type": "markdown",
   "id": "9ff831c9",
   "metadata": {},
   "source": [
    "## reference filter "
   ]
  },
  {
   "cell_type": "code",
   "execution_count": 135,
   "id": "6b58be20",
   "metadata": {},
   "outputs": [],
   "source": [
    "c=[i.count(';')+1 if type(i)!=float else -1  for i in df_author['References'].values]"
   ]
  },
  {
   "cell_type": "code",
   "execution_count": 136,
   "id": "7f451739",
   "metadata": {},
   "outputs": [
    {
     "data": {
      "text/plain": [
       "130"
      ]
     },
     "execution_count": 136,
     "metadata": {},
     "output_type": "execute_result"
    }
   ],
   "source": [
    "c.count(-1)"
   ]
  },
  {
   "cell_type": "code",
   "execution_count": 138,
   "id": "d1cc2894",
   "metadata": {
    "collapsed": true
   },
   "outputs": [
    {
     "data": {
      "text/plain": [
       "[nan,\n",
       " nan,\n",
       " nan,\n",
       " nan,\n",
       " nan,\n",
       " nan,\n",
       " nan,\n",
       " nan,\n",
       " nan,\n",
       " nan,\n",
       " nan,\n",
       " nan,\n",
       " nan,\n",
       " nan,\n",
       " nan,\n",
       " nan,\n",
       " nan,\n",
       " nan,\n",
       " nan,\n",
       " nan,\n",
       " nan,\n",
       " nan,\n",
       " nan,\n",
       " nan,\n",
       " nan,\n",
       " nan,\n",
       " nan,\n",
       " nan,\n",
       " nan,\n",
       " nan,\n",
       " nan,\n",
       " nan,\n",
       " nan,\n",
       " nan,\n",
       " nan,\n",
       " nan,\n",
       " nan,\n",
       " nan,\n",
       " nan,\n",
       " nan,\n",
       " nan,\n",
       " nan,\n",
       " nan,\n",
       " nan,\n",
       " nan,\n",
       " nan,\n",
       " nan,\n",
       " nan,\n",
       " nan,\n",
       " nan,\n",
       " nan,\n",
       " nan,\n",
       " nan,\n",
       " nan,\n",
       " nan,\n",
       " nan,\n",
       " nan,\n",
       " nan,\n",
       " nan,\n",
       " nan,\n",
       " nan,\n",
       " nan,\n",
       " nan,\n",
       " nan,\n",
       " nan,\n",
       " nan,\n",
       " nan,\n",
       " nan,\n",
       " nan,\n",
       " nan,\n",
       " nan,\n",
       " nan,\n",
       " nan,\n",
       " nan,\n",
       " nan,\n",
       " nan,\n",
       " nan,\n",
       " nan,\n",
       " nan,\n",
       " nan,\n",
       " nan,\n",
       " nan,\n",
       " nan,\n",
       " nan,\n",
       " nan,\n",
       " nan,\n",
       " nan,\n",
       " nan,\n",
       " nan,\n",
       " nan,\n",
       " nan,\n",
       " nan,\n",
       " nan,\n",
       " nan,\n",
       " nan,\n",
       " nan,\n",
       " nan,\n",
       " nan,\n",
       " nan,\n",
       " nan,\n",
       " nan,\n",
       " nan,\n",
       " nan,\n",
       " nan,\n",
       " nan,\n",
       " nan,\n",
       " nan,\n",
       " nan,\n",
       " nan,\n",
       " nan,\n",
       " nan,\n",
       " nan,\n",
       " nan,\n",
       " nan,\n",
       " nan,\n",
       " nan,\n",
       " nan,\n",
       " nan,\n",
       " nan,\n",
       " nan,\n",
       " nan,\n",
       " nan,\n",
       " nan,\n",
       " nan,\n",
       " nan,\n",
       " nan,\n",
       " nan,\n",
       " nan,\n",
       " nan,\n",
       " nan]"
      ]
     },
     "execution_count": 138,
     "metadata": {},
     "output_type": "execute_result"
    }
   ],
   "source": [
    "[i  for i in df_author['References'].values if type(i)==float ]"
   ]
  },
  {
   "cell_type": "code",
   "execution_count": 137,
   "id": "7e159e95",
   "metadata": {},
   "outputs": [
    {
     "data": {
      "text/plain": [
       "130"
      ]
     },
     "execution_count": 137,
     "metadata": {},
     "output_type": "execute_result"
    }
   ],
   "source": [
    "len([i  for i in df_author['References'].values if type(i)==float ])"
   ]
  },
  {
   "cell_type": "markdown",
   "id": "672e7df2",
   "metadata": {},
   "source": [
    "### 130 records does not have any references and remove from further analysis"
   ]
  },
  {
   "cell_type": "code",
   "execution_count": 140,
   "id": "602e6424",
   "metadata": {},
   "outputs": [],
   "source": [
    "df_author1=df_author.loc[[True if type(i)!=float else False  for i in df_author['References'].values]]"
   ]
  },
  {
   "cell_type": "code",
   "execution_count": 141,
   "id": "952bd7a7",
   "metadata": {},
   "outputs": [
    {
     "data": {
      "text/plain": [
       "(4339, 54)"
      ]
     },
     "execution_count": 141,
     "metadata": {},
     "output_type": "execute_result"
    }
   ],
   "source": [
    "df_author1.shape"
   ]
  },
  {
   "cell_type": "code",
   "execution_count": 142,
   "id": "84ef3966",
   "metadata": {},
   "outputs": [],
   "source": [
    "c=[i.count(';')+1 for i in df_author1['References'].values]"
   ]
  },
  {
   "cell_type": "code",
   "execution_count": 143,
   "id": "7d2a6ef6",
   "metadata": {},
   "outputs": [
    {
     "data": {
      "text/plain": [
       "144.85999999999967"
      ]
     },
     "execution_count": 143,
     "metadata": {},
     "output_type": "execute_result"
    }
   ],
   "source": [
    "np.percentile(c,99)"
   ]
  },
  {
   "cell_type": "code",
   "execution_count": 144,
   "id": "df4c3719",
   "metadata": {
    "collapsed": true
   },
   "outputs": [
    {
     "name": "stderr",
     "output_type": "stream",
     "text": [
      "/home/sunny/anaconda3/lib/python3.7/site-packages/seaborn/distributions.py:2619: FutureWarning: `distplot` is a deprecated function and will be removed in a future version. Please adapt your code to use either `displot` (a figure-level function with similar flexibility) or `histplot` (an axes-level function for histograms).\n",
      "  warnings.warn(msg, FutureWarning)\n"
     ]
    },
    {
     "data": {
      "text/plain": [
       "<AxesSubplot:ylabel='Density'>"
      ]
     },
     "execution_count": 144,
     "metadata": {},
     "output_type": "execute_result"
    },
    {
     "data": {
      "image/png": "[encoded data removed]",
      "text/plain": [
       "<Figure size 1008x576 with 1 Axes>"
      ]
     },
     "metadata": {
      "needs_background": "light"
     },
     "output_type": "display_data"
    }
   ],
   "source": [
    "f, ax = plt.subplots(figsize=(14, 8))\n",
    "sns.distplot(c)"
   ]
  },
  {
   "cell_type": "code",
   "execution_count": 148,
   "id": "80e7d2a0",
   "metadata": {
    "collapsed": true
   },
   "outputs": [
    {
     "data": {
      "text/plain": [
       "['Whitesides, G.M., Mathias, J.P., Seto, C.T., Molecular Self-Assembly and Nanochemistry: A Chemical strategy for the Synthesis of Nanostructures (1991) Science, 254, p. 1312; (2006) Christian Hinderling and Harry Heinzelmann, , Nanoscale patterning withblockcopolymers.SivashankarKrishnamoorthy,MaterialsToday9, 40 September',\n",
       " 'Canter, N., Graphene: The Strongest Material Ever Examined (2009), pp. 28-29. , TLT, 65 2, pp; Allen, B., Kichambare, P., Gou, P., Vlasova, I., Kapralov, A., Konduru, N., Kagan, V., Star, A., Biodegradation of Single-Walled Carbon Nanotubes through Enzymatic Catalysis (2008) Nano Letters, 8 (11), pp. 3899-3903',\n",
       " 'Park, T.G., Degradation of poly(D,L-lactic acid) microspheres: Effect of molecular weight (1994) Journal of Controlled Release, 30, pp. 161-173',\n",
       " 'Yakabe, Y., Tadokoro, H., (1993) Chemosphere, 27, p. 2169',\n",
       " 'de Souza, P.M., de Oliveira Magalháes, P., Application of microbial α-amylase in industry - A review (2010) Braz. J. Microbiol., 41 (4), pp. 850-861. , www.ncbi.nlm.nih.gov/pmc/articles/PMC3769773/, https://doi.org/10.1590/ S1517-83822010000400004. PubMed; Visser, J.H.M., Molendijk, L.P.G., Feil, H., Meints, H., van Beers, T., Anaerobe grondontsmetting (\"Bodemresetten\") met biobased grondafdekking als alternatief voor folie (2017) Wageningen Plant Research Rapport, 715, p. 33. , http://www.bodemresetten.nl/wp-content/uploads/2017/11/Anaerboe-grondontsmetting-metbiobased-grondafdekking-als-alternatief-voor-folie.pdf']"
      ]
     },
     "execution_count": 148,
     "metadata": {},
     "output_type": "execute_result"
    }
   ],
   "source": [
    "[i for i in df_author1['References'].values if i.count(';')<2]"
   ]
  },
  {
   "cell_type": "code",
   "execution_count": 158,
   "id": "23a11fb1",
   "metadata": {
    "collapsed": true
   },
   "outputs": [
    {
     "name": "stderr",
     "output_type": "stream",
     "text": [
      "/home/sunny/anaconda3/lib/python3.7/site-packages/seaborn/distributions.py:2619: FutureWarning: `distplot` is a deprecated function and will be removed in a future version. Please adapt your code to use either `displot` (a figure-level function with similar flexibility) or `histplot` (an axes-level function for histograms).\n",
      "  warnings.warn(msg, FutureWarning)\n"
     ]
    },
    {
     "data": {
      "image/png": "[encoded data removed]",
      "text/plain": [
       "<Figure size 1008x576 with 1 Axes>"
      ]
     },
     "metadata": {
      "needs_background": "light"
     },
     "output_type": "display_data"
    }
   ],
   "source": [
    "f, ax = plt.subplots(figsize=(14, 8))\n",
    "sns.distplot(c)\n",
    "ax.vlines([150],0,.002, colors='r')\n",
    "ax.set_title('Distribution of number of references in records', fontsize=20)\n",
    "ax.set_ylabel('Density', fontsize=16)\n",
    "ax.set_xlabel('Number of references', fontsize=14)\n",
    "f.savefig('Distribution of number of references in records.png', dpi=400) "
   ]
  },
  {
   "cell_type": "code",
   "execution_count": 159,
   "id": "5e2d686b",
   "metadata": {
    "scrolled": true
   },
   "outputs": [
    {
     "name": "stderr",
     "output_type": "stream",
     "text": [
      "/home/sunny/anaconda3/lib/python3.7/site-packages/seaborn/distributions.py:2619: FutureWarning: `distplot` is a deprecated function and will be removed in a future version. Please adapt your code to use either `displot` (a figure-level function with similar flexibility) or `histplot` (an axes-level function for histograms).\n",
      "  warnings.warn(msg, FutureWarning)\n"
     ]
    },
    {
     "data": {
      "image/png": "[encoded data removed]",
      "text/plain": [
       "<Figure size 1008x576 with 1 Axes>"
      ]
     },
     "metadata": {
      "needs_background": "light"
     },
     "output_type": "display_data"
    }
   ],
   "source": [
    "f, ax = plt.subplots(figsize=(14, 8))\n",
    "sns.distplot(c)\n",
    "ax.vlines([150],0,.002, colors='r')\n",
    "ax.set_title('Distribution of number of references in records', fontsize=20)\n",
    "ax.set_ylabel('Density', fontsize=16)\n",
    "ax.set_xlabel('Number of references', fontsize=14)\n",
    "f.savefig('Distribution of number of references in records.jpeg', dpi=400) "
   ]
  },
  {
   "cell_type": "code",
   "execution_count": 154,
   "id": "4e1c50ca",
   "metadata": {},
   "outputs": [
    {
     "data": {
      "text/plain": [
       "(4299, 54)"
      ]
     },
     "execution_count": 154,
     "metadata": {},
     "output_type": "execute_result"
    }
   ],
   "source": [
    "df_author1.loc[[True if i <150 else False  for i in c]].shape"
   ]
  },
  {
   "cell_type": "code",
   "execution_count": 155,
   "id": "c622d38f",
   "metadata": {},
   "outputs": [],
   "source": [
    "df_ref=df_author1.loc[[True if i <150 else False  for i in c]]"
   ]
  },
  {
   "cell_type": "code",
   "execution_count": 156,
   "id": "56e7ff31",
   "metadata": {},
   "outputs": [
    {
     "data": {
      "text/plain": [
       "(4299, 54)"
      ]
     },
     "execution_count": 156,
     "metadata": {},
     "output_type": "execute_result"
    }
   ],
   "source": [
    "df_ref.shape"
   ]
  },
  {
   "cell_type": "code",
   "execution_count": null,
   "id": "49be3969",
   "metadata": {},
   "outputs": [],
   "source": []
  },
  {
   "cell_type": "markdown",
   "id": "e979b1be",
   "metadata": {},
   "source": [
    "## Apply source title filter and keep only those sources with more than 2 records"
   ]
  },
  {
   "cell_type": "code",
   "execution_count": 163,
   "id": "4d6ca721",
   "metadata": {
    "collapsed": true
   },
   "outputs": [
    {
     "data": {
      "text/plain": [
       "<seaborn.axisgrid.FacetGrid at 0x7f421474a910>"
      ]
     },
     "execution_count": 163,
     "metadata": {},
     "output_type": "execute_result"
    },
    {
     "data": {
      "image/png": "[encoded data removed]",
      "text/plain": [
       "<Figure size 360x360 with 1 Axes>"
      ]
     },
     "metadata": {
      "needs_background": "light"
     },
     "output_type": "display_data"
    }
   ],
   "source": [
    "sns.displot(list(collections.Counter(df_ref['Source title'].values).values()))"
   ]
  },
  {
   "cell_type": "code",
   "execution_count": 164,
   "id": "9ad7b932",
   "metadata": {
    "collapsed": true
   },
   "outputs": [
    {
     "data": {
      "text/plain": [
       "<seaborn.axisgrid.FacetGrid at 0x7f421db73990>"
      ]
     },
     "execution_count": 164,
     "metadata": {},
     "output_type": "execute_result"
    },
    {
     "data": {
      "image/png": "[encoded data removed]",
      "text/plain": [
       "<Figure size 360x360 with 1 Axes>"
      ]
     },
     "metadata": {
      "needs_background": "light"
     },
     "output_type": "display_data"
    }
   ],
   "source": [
    "sns.displot([np.log(i) for i in list(collections.Counter(df_ref['Source title'].values).values())])"
   ]
  },
  {
   "cell_type": "code",
   "execution_count": 175,
   "id": "ff04db49",
   "metadata": {
    "scrolled": true
   },
   "outputs": [
    {
     "name": "stderr",
     "output_type": "stream",
     "text": [
      "/home/sunny/anaconda3/lib/python3.7/site-packages/seaborn/distributions.py:2619: FutureWarning: `distplot` is a deprecated function and will be removed in a future version. Please adapt your code to use either `displot` (a figure-level function with similar flexibility) or `histplot` (an axes-level function for histograms).\n",
      "  warnings.warn(msg, FutureWarning)\n"
     ]
    },
    {
     "data": {
      "text/plain": [
       "<AxesSubplot:ylabel='Density'>"
      ]
     },
     "execution_count": 175,
     "metadata": {},
     "output_type": "execute_result"
    },
    {
     "data": {
      "image/png": "[encoded data removed]",
      "text/plain": [
       "<Figure size 1008x576 with 1 Axes>"
      ]
     },
     "metadata": {
      "needs_background": "light"
     },
     "output_type": "display_data"
    }
   ],
   "source": [
    "f, ax = plt.subplots(figsize=(14, 8))\n",
    "sns.distplot([i for i in collections.Counter(df_ref['Source title'].values).values()])"
   ]
  },
  {
   "cell_type": "code",
   "execution_count": 176,
   "id": "76bedf80",
   "metadata": {},
   "outputs": [],
   "source": [
    "source_selected=[i[0] for i in  collections.Counter(df_ref['Source title'].values).most_common() if i[1]>2]"
   ]
  },
  {
   "cell_type": "code",
   "execution_count": 177,
   "id": "978d08a2",
   "metadata": {
    "collapsed": true
   },
   "outputs": [
    {
     "data": {
      "text/plain": [
       "258"
      ]
     },
     "execution_count": 177,
     "metadata": {},
     "output_type": "execute_result"
    }
   ],
   "source": [
    "len(set(source_selected))"
   ]
  },
  {
   "cell_type": "code",
   "execution_count": 178,
   "id": "5d3d8785",
   "metadata": {},
   "outputs": [
    {
     "data": {
      "text/plain": [
       "(3487, 54)"
      ]
     },
     "execution_count": 178,
     "metadata": {},
     "output_type": "execute_result"
    }
   ],
   "source": [
    "df_ref.loc[df_ref['Source title'].isin(source_selected)].shape"
   ]
  },
  {
   "cell_type": "code",
   "execution_count": 186,
   "id": "cd4a7a26",
   "metadata": {
    "scrolled": true
   },
   "outputs": [
    {
     "name": "stderr",
     "output_type": "stream",
     "text": [
      "/home/sunny/anaconda3/lib/python3.7/site-packages/seaborn/distributions.py:2619: FutureWarning: `distplot` is a deprecated function and will be removed in a future version. Please adapt your code to use either `displot` (a figure-level function with similar flexibility) or `histplot` (an axes-level function for histograms).\n",
      "  warnings.warn(msg, FutureWarning)\n",
      "/home/sunny/anaconda3/lib/python3.7/site-packages/seaborn/distributions.py:2619: FutureWarning: `distplot` is a deprecated function and will be removed in a future version. Please adapt your code to use either `displot` (a figure-level function with similar flexibility) or `histplot` (an axes-level function for histograms).\n",
      "  warnings.warn(msg, FutureWarning)\n"
     ]
    },
    {
     "data": {
      "image/png": "[encoded data removed]",
      "text/plain": [
       "<Figure size 1008x576 with 1 Axes>"
      ]
     },
     "metadata": {
      "needs_background": "light"
     },
     "output_type": "display_data"
    }
   ],
   "source": [
    "f, ax = plt.subplots(figsize=(14, 8))\n",
    "sns.distplot([i for i in collections.Counter(df_ref['Source title'].values).values()])\n",
    "sns.distplot([i for i in collections.Counter(df_ref.loc[df_ref['Source title'].isin(source_selected)]['Source title'].values).values()])\n",
    "ax.set_title('Distribution of number of records for different Source title', fontsize=20)\n",
    "ax.set_ylabel('Density', fontsize=16)\n",
    "ax.set_xlabel('Number of records', fontsize=14)\n",
    "ax.legend(['Before filter','After filter'],fontsize=14)\n",
    "f.savefig('Distribution of number of records for different Source title.jpeg', dpi=400) "
   ]
  },
  {
   "cell_type": "code",
   "execution_count": 187,
   "id": "b0611cf7",
   "metadata": {
    "collapsed": true
   },
   "outputs": [
    {
     "name": "stderr",
     "output_type": "stream",
     "text": [
      "/home/sunny/anaconda3/lib/python3.7/site-packages/seaborn/distributions.py:2619: FutureWarning: `distplot` is a deprecated function and will be removed in a future version. Please adapt your code to use either `displot` (a figure-level function with similar flexibility) or `histplot` (an axes-level function for histograms).\n",
      "  warnings.warn(msg, FutureWarning)\n",
      "/home/sunny/anaconda3/lib/python3.7/site-packages/seaborn/distributions.py:2619: FutureWarning: `distplot` is a deprecated function and will be removed in a future version. Please adapt your code to use either `displot` (a figure-level function with similar flexibility) or `histplot` (an axes-level function for histograms).\n",
      "  warnings.warn(msg, FutureWarning)\n"
     ]
    },
    {
     "data": {
      "image/png": "[encoded data removed]",
      "text/plain": [
       "<Figure size 1008x576 with 1 Axes>"
      ]
     },
     "metadata": {
      "needs_background": "light"
     },
     "output_type": "display_data"
    }
   ],
   "source": [
    "f, ax = plt.subplots(figsize=(14, 8))\n",
    "sns.distplot([i for i in collections.Counter(df_ref['Source title'].values).values()])\n",
    "sns.distplot([i for i in collections.Counter(df_ref.loc[df_ref['Source title'].isin(source_selected)]['Source title'].values).values()])\n",
    "ax.set_title('Distribution of number of records for different Source title', fontsize=20)\n",
    "ax.set_ylabel('Density', fontsize=16)\n",
    "ax.set_xlabel('Number of records', fontsize=14)\n",
    "ax.legend(['Before filter','After filter'],fontsize=14)\n",
    "f.savefig('Distribution of number of records for different Source title.png', dpi=400)"
   ]
  },
  {
   "cell_type": "code",
   "execution_count": 183,
   "id": "72614d73",
   "metadata": {},
   "outputs": [
    {
     "data": {
      "text/plain": [
       "0.8111188648522912"
      ]
     },
     "execution_count": 183,
     "metadata": {},
     "output_type": "execute_result"
    }
   ],
   "source": [
    "3487/4299"
   ]
  },
  {
   "cell_type": "code",
   "execution_count": null,
   "id": "90828e6b",
   "metadata": {},
   "outputs": [],
   "source": []
  },
  {
   "cell_type": "code",
   "execution_count": 184,
   "id": "cb313ee2",
   "metadata": {},
   "outputs": [
    {
     "data": {
      "text/plain": [
       "812"
      ]
     },
     "execution_count": 184,
     "metadata": {},
     "output_type": "execute_result"
    }
   ],
   "source": [
    "4299-3487"
   ]
  },
  {
   "cell_type": "code",
   "execution_count": 185,
   "id": "715e8536",
   "metadata": {},
   "outputs": [
    {
     "data": {
      "text/plain": [
       "0.18888113514770877"
      ]
     },
     "execution_count": 185,
     "metadata": {},
     "output_type": "execute_result"
    }
   ],
   "source": [
    "812/4299"
   ]
  },
  {
   "cell_type": "markdown",
   "id": "4473dad8",
   "metadata": {},
   "source": [
    "## 18.88 % data lost in this filter of having atleast 3 records for the source title in the records"
   ]
  },
  {
   "cell_type": "code",
   "execution_count": 188,
   "id": "a61f8e0d",
   "metadata": {},
   "outputs": [],
   "source": [
    "df_source=df_ref.loc[df_ref['Source title'].isin(source_selected)]\n"
   ]
  },
  {
   "cell_type": "markdown",
   "id": "2525eaa6",
   "metadata": {},
   "source": [
    "## Citation filter "
   ]
  },
  {
   "cell_type": "code",
   "execution_count": 189,
   "id": "fad61980",
   "metadata": {},
   "outputs": [
    {
     "data": {
      "text/plain": [
       "(3487, 54)"
      ]
     },
     "execution_count": 189,
     "metadata": {},
     "output_type": "execute_result"
    }
   ],
   "source": [
    "df_source.shape"
   ]
  },
  {
   "cell_type": "code",
   "execution_count": 190,
   "id": "ec9c1241",
   "metadata": {},
   "outputs": [],
   "source": [
    "citation=[i for i in df_source['Cited by']]"
   ]
  },
  {
   "cell_type": "code",
   "execution_count": 193,
   "id": "0ea64793",
   "metadata": {
    "scrolled": false
   },
   "outputs": [
    {
     "name": "stderr",
     "output_type": "stream",
     "text": [
      "/home/sunny/anaconda3/lib/python3.7/site-packages/seaborn/distributions.py:2619: FutureWarning: `distplot` is a deprecated function and will be removed in a future version. Please adapt your code to use either `displot` (a figure-level function with similar flexibility) or `histplot` (an axes-level function for histograms).\n",
      "  warnings.warn(msg, FutureWarning)\n"
     ]
    },
    {
     "data": {
      "text/plain": [
       "<AxesSubplot:ylabel='Density'>"
      ]
     },
     "execution_count": 193,
     "metadata": {},
     "output_type": "execute_result"
    },
    {
     "data": {
      "image/png": "[encoded data removed]",
      "text/plain": [
       "<Figure size 1008x576 with 1 Axes>"
      ]
     },
     "metadata": {
      "needs_background": "light"
     },
     "output_type": "display_data"
    }
   ],
   "source": [
    "f, ax = plt.subplots(figsize=(14, 8))\n",
    "sns.distplot(citation)"
   ]
  },
  {
   "cell_type": "code",
   "execution_count": 194,
   "id": "3f7d9a18",
   "metadata": {},
   "outputs": [],
   "source": [
    "test=[]\n",
    "for i in citation:\n",
    "    try:\n",
    "        if int(i)>4:\n",
    "            test.append(True)\n",
    "        else:\n",
    "            test.append(False)\n",
    "    except:\n",
    "        test.append(False)"
   ]
  },
  {
   "cell_type": "code",
   "execution_count": 195,
   "id": "85be2bef",
   "metadata": {},
   "outputs": [],
   "source": [
    "year=[False if int(i)<2020 else True for i in df_source['Year'].values]"
   ]
  },
  {
   "cell_type": "code",
   "execution_count": 196,
   "id": "4c64c9b2",
   "metadata": {},
   "outputs": [],
   "source": [
    "final=[]\n",
    "for i,j in zip(test,year):\n",
    "    if i+j:\n",
    "        final.append(True)\n",
    "    else:\n",
    "        final.append(False)"
   ]
  },
  {
   "cell_type": "code",
   "execution_count": 197,
   "id": "f46077b1",
   "metadata": {},
   "outputs": [
    {
     "data": {
      "text/plain": [
       "(3292, 54)"
      ]
     },
     "execution_count": 197,
     "metadata": {},
     "output_type": "execute_result"
    }
   ],
   "source": [
    "df_source.loc[final].shape"
   ]
  },
  {
   "cell_type": "code",
   "execution_count": 198,
   "id": "610f635b",
   "metadata": {},
   "outputs": [],
   "source": [
    "df_final=df_source.loc[final]"
   ]
  },
  {
   "cell_type": "code",
   "execution_count": 199,
   "id": "04e7da6a",
   "metadata": {},
   "outputs": [
    {
     "data": {
      "text/plain": [
       "(3292, 54)"
      ]
     },
     "execution_count": 199,
     "metadata": {},
     "output_type": "execute_result"
    }
   ],
   "source": [
    "df_final.shape"
   ]
  },
  {
   "cell_type": "code",
   "execution_count": 207,
   "id": "533aa642",
   "metadata": {},
   "outputs": [
    {
     "data": {
      "text/plain": [
       "2752"
      ]
     },
     "execution_count": 207,
     "metadata": {},
     "output_type": "execute_result"
    }
   ],
   "source": [
    "sum([True if float(i) >4 else False for i in df_source['Cited by'].values])"
   ]
  },
  {
   "cell_type": "code",
   "execution_count": 210,
   "id": "844d9aa4",
   "metadata": {},
   "outputs": [
    {
     "data": {
      "text/plain": [
       "['8',\n",
       " '94',\n",
       " '8',\n",
       " '5',\n",
       " '109',\n",
       " '8',\n",
       " '11',\n",
       " '9',\n",
       " '19',\n",
       " '34',\n",
       " '25',\n",
       " '77',\n",
       " '25',\n",
       " '32',\n",
       " '24',\n",
       " '35',\n",
       " '47',\n",
       " '21',\n",
       " '15',\n",
       " '18',\n",
       " '8',\n",
       " '13',\n",
       " '19',\n",
       " '50',\n",
       " '20',\n",
       " '11',\n",
       " '48',\n",
       " '44',\n",
       " '150',\n",
       " '39',\n",
       " '12',\n",
       " '60',\n",
       " '240',\n",
       " '14',\n",
       " '40',\n",
       " '10',\n",
       " '18',\n",
       " '22',\n",
       " '10',\n",
       " '48',\n",
       " '19',\n",
       " '23',\n",
       " '13',\n",
       " '44',\n",
       " '48',\n",
       " '6',\n",
       " '31',\n",
       " '12',\n",
       " '8',\n",
       " '11',\n",
       " '19',\n",
       " '84',\n",
       " '6',\n",
       " '395',\n",
       " '16',\n",
       " '7',\n",
       " '84',\n",
       " '18',\n",
       " '14',\n",
       " '239',\n",
       " '40',\n",
       " '5',\n",
       " '14',\n",
       " '245',\n",
       " '19',\n",
       " '7',\n",
       " '59',\n",
       " '7',\n",
       " '97',\n",
       " '7',\n",
       " '45',\n",
       " '41',\n",
       " '29',\n",
       " '5',\n",
       " '6',\n",
       " '14',\n",
       " '8',\n",
       " '9',\n",
       " '15',\n",
       " '21',\n",
       " '8',\n",
       " '51',\n",
       " '70',\n",
       " '59',\n",
       " '18',\n",
       " '43',\n",
       " '30',\n",
       " '34',\n",
       " '129',\n",
       " '920',\n",
       " '123',\n",
       " '7',\n",
       " '14',\n",
       " '10',\n",
       " '12',\n",
       " '21',\n",
       " '34',\n",
       " '75',\n",
       " '15',\n",
       " '25',\n",
       " '9',\n",
       " '15',\n",
       " '18',\n",
       " '35',\n",
       " '38',\n",
       " '71',\n",
       " '27',\n",
       " '12',\n",
       " '68',\n",
       " '5',\n",
       " '20',\n",
       " '6',\n",
       " '19',\n",
       " '11',\n",
       " '14',\n",
       " '35',\n",
       " '17',\n",
       " '15',\n",
       " '5',\n",
       " '51',\n",
       " '36',\n",
       " '22',\n",
       " '6',\n",
       " '33',\n",
       " '50',\n",
       " '10',\n",
       " '23',\n",
       " '235',\n",
       " '14',\n",
       " '12',\n",
       " '31',\n",
       " '44',\n",
       " '14',\n",
       " '8',\n",
       " '81',\n",
       " '30',\n",
       " '102',\n",
       " '258',\n",
       " '259',\n",
       " '18',\n",
       " '27',\n",
       " '50',\n",
       " '9',\n",
       " '87',\n",
       " '21',\n",
       " '32',\n",
       " '18',\n",
       " '55',\n",
       " '15',\n",
       " '11',\n",
       " '35',\n",
       " '41',\n",
       " '23',\n",
       " '23',\n",
       " '24',\n",
       " '87',\n",
       " '14',\n",
       " '29',\n",
       " '6',\n",
       " '65',\n",
       " '8',\n",
       " '8',\n",
       " '31',\n",
       " '39',\n",
       " '89',\n",
       " '57',\n",
       " '21',\n",
       " '29',\n",
       " '41',\n",
       " '19',\n",
       " '12',\n",
       " '214',\n",
       " '130',\n",
       " '47',\n",
       " '42',\n",
       " '6',\n",
       " '201',\n",
       " '91',\n",
       " '107',\n",
       " '61',\n",
       " '44',\n",
       " '16',\n",
       " '20',\n",
       " '21',\n",
       " '69',\n",
       " '21',\n",
       " '12',\n",
       " '30',\n",
       " '69',\n",
       " '92',\n",
       " '68',\n",
       " '10',\n",
       " '45',\n",
       " '28',\n",
       " '49',\n",
       " '22',\n",
       " '56',\n",
       " '34',\n",
       " '17',\n",
       " '58',\n",
       " '15',\n",
       " '8',\n",
       " '16',\n",
       " '39',\n",
       " '31',\n",
       " '17',\n",
       " '46',\n",
       " '68',\n",
       " '24',\n",
       " '32',\n",
       " '12',\n",
       " '5',\n",
       " '46',\n",
       " '9',\n",
       " '6',\n",
       " '11',\n",
       " '13',\n",
       " '26',\n",
       " '82',\n",
       " '39',\n",
       " '21',\n",
       " '18',\n",
       " '13',\n",
       " '35',\n",
       " '8',\n",
       " '15',\n",
       " '23',\n",
       " '27',\n",
       " '31',\n",
       " '31',\n",
       " '33',\n",
       " '56',\n",
       " '26',\n",
       " '47',\n",
       " '8',\n",
       " '17',\n",
       " '337',\n",
       " '39',\n",
       " '46',\n",
       " '26',\n",
       " '6',\n",
       " '24',\n",
       " '17',\n",
       " '137',\n",
       " '6',\n",
       " '18',\n",
       " '31',\n",
       " '29',\n",
       " '15',\n",
       " '39',\n",
       " '6',\n",
       " '74',\n",
       " '27',\n",
       " '112',\n",
       " '7',\n",
       " '11',\n",
       " '28',\n",
       " '22',\n",
       " '121',\n",
       " '261',\n",
       " '82',\n",
       " '6',\n",
       " '13',\n",
       " '13',\n",
       " '10',\n",
       " '6',\n",
       " '50',\n",
       " '251',\n",
       " '146',\n",
       " '27',\n",
       " '68',\n",
       " '37',\n",
       " '16',\n",
       " '130',\n",
       " '11',\n",
       " '9',\n",
       " '34',\n",
       " '26',\n",
       " '49',\n",
       " '162',\n",
       " '31',\n",
       " '17',\n",
       " '31',\n",
       " '10',\n",
       " '79',\n",
       " '8',\n",
       " '11',\n",
       " '33',\n",
       " '5',\n",
       " '22',\n",
       " '15',\n",
       " '9',\n",
       " '54',\n",
       " '55',\n",
       " '5',\n",
       " '50',\n",
       " '17',\n",
       " '55',\n",
       " '5',\n",
       " '39',\n",
       " '33',\n",
       " '6',\n",
       " '22',\n",
       " '108',\n",
       " '11',\n",
       " '18',\n",
       " '26',\n",
       " '20',\n",
       " '18',\n",
       " '25',\n",
       " '7',\n",
       " '7',\n",
       " '5',\n",
       " '25',\n",
       " '18',\n",
       " '37',\n",
       " '13',\n",
       " '24',\n",
       " '10',\n",
       " '29',\n",
       " '38',\n",
       " '45',\n",
       " '56',\n",
       " '33',\n",
       " '75',\n",
       " '19',\n",
       " '18',\n",
       " '27',\n",
       " '12',\n",
       " '9',\n",
       " '73',\n",
       " '51',\n",
       " '67',\n",
       " '16',\n",
       " '25',\n",
       " '11',\n",
       " '6',\n",
       " '151',\n",
       " '22',\n",
       " '10',\n",
       " '109',\n",
       " '11',\n",
       " '134',\n",
       " '49',\n",
       " '10',\n",
       " '91',\n",
       " '24',\n",
       " '9',\n",
       " '8',\n",
       " '6',\n",
       " '56',\n",
       " '5',\n",
       " '39',\n",
       " '61',\n",
       " '9',\n",
       " '22',\n",
       " '22',\n",
       " '11',\n",
       " '6',\n",
       " '50',\n",
       " '150',\n",
       " '53',\n",
       " '84',\n",
       " '66',\n",
       " '32',\n",
       " '392',\n",
       " '20',\n",
       " '82',\n",
       " '17',\n",
       " '134',\n",
       " '13',\n",
       " '11',\n",
       " '6',\n",
       " '52',\n",
       " '14',\n",
       " '18',\n",
       " '30',\n",
       " '18',\n",
       " '37',\n",
       " '9',\n",
       " '13',\n",
       " '40',\n",
       " '36',\n",
       " '44',\n",
       " '18',\n",
       " '13',\n",
       " '10',\n",
       " '12',\n",
       " '57',\n",
       " '469',\n",
       " '77',\n",
       " '27',\n",
       " '82',\n",
       " '71',\n",
       " '26',\n",
       " '51',\n",
       " '16',\n",
       " '35',\n",
       " '8',\n",
       " '37',\n",
       " '21',\n",
       " '78',\n",
       " '15',\n",
       " '29',\n",
       " '38',\n",
       " '49',\n",
       " '14',\n",
       " '132',\n",
       " '137',\n",
       " '23',\n",
       " '33',\n",
       " '85',\n",
       " '120',\n",
       " '7',\n",
       " '41',\n",
       " '9',\n",
       " '27',\n",
       " '100',\n",
       " '30',\n",
       " '46',\n",
       " '13',\n",
       " '18',\n",
       " '12',\n",
       " '20',\n",
       " '52',\n",
       " '33',\n",
       " '46',\n",
       " '32',\n",
       " '38',\n",
       " '9',\n",
       " '12',\n",
       " '20',\n",
       " '36',\n",
       " '35',\n",
       " '73',\n",
       " '12',\n",
       " '37',\n",
       " '72',\n",
       " '6',\n",
       " '14',\n",
       " '38',\n",
       " '6',\n",
       " '13',\n",
       " '34',\n",
       " '53',\n",
       " '11',\n",
       " '48',\n",
       " '36',\n",
       " '34',\n",
       " '13',\n",
       " '6',\n",
       " '29',\n",
       " '44',\n",
       " '6',\n",
       " '12',\n",
       " '36',\n",
       " '25',\n",
       " '12',\n",
       " '70',\n",
       " '28',\n",
       " '31',\n",
       " '36',\n",
       " '39',\n",
       " '72',\n",
       " '80',\n",
       " '64',\n",
       " '7',\n",
       " '140',\n",
       " '20',\n",
       " '19',\n",
       " '29',\n",
       " '291',\n",
       " '40',\n",
       " '37',\n",
       " '19',\n",
       " '27',\n",
       " '62',\n",
       " '10',\n",
       " '15',\n",
       " '36',\n",
       " '99',\n",
       " '33',\n",
       " '29',\n",
       " '55',\n",
       " '18',\n",
       " '10',\n",
       " '38',\n",
       " '16',\n",
       " '63',\n",
       " '36',\n",
       " '19',\n",
       " '107',\n",
       " '45',\n",
       " '6',\n",
       " '63',\n",
       " '26',\n",
       " '6',\n",
       " '16',\n",
       " '9',\n",
       " '11',\n",
       " '43',\n",
       " '27',\n",
       " '36',\n",
       " '31',\n",
       " '23',\n",
       " '64',\n",
       " '18',\n",
       " '17',\n",
       " '36',\n",
       " '45',\n",
       " '6',\n",
       " '5',\n",
       " '37',\n",
       " '11',\n",
       " '282',\n",
       " '18',\n",
       " '44',\n",
       " '50',\n",
       " '44',\n",
       " '44',\n",
       " '14',\n",
       " '29',\n",
       " '14',\n",
       " '97',\n",
       " '17',\n",
       " '24',\n",
       " '19',\n",
       " '71',\n",
       " '49',\n",
       " '84',\n",
       " '13',\n",
       " '22',\n",
       " '16',\n",
       " '57',\n",
       " '55',\n",
       " '10',\n",
       " '223',\n",
       " '200',\n",
       " '18',\n",
       " '20',\n",
       " '68',\n",
       " '50',\n",
       " '25',\n",
       " '21',\n",
       " '26',\n",
       " '27',\n",
       " '32',\n",
       " '10',\n",
       " '7',\n",
       " '36',\n",
       " '11',\n",
       " '23',\n",
       " '13',\n",
       " '24',\n",
       " '14',\n",
       " '27',\n",
       " '12',\n",
       " '19',\n",
       " '29',\n",
       " '24',\n",
       " '20',\n",
       " '59',\n",
       " '65',\n",
       " '25',\n",
       " '55',\n",
       " '30',\n",
       " '37',\n",
       " '91',\n",
       " '27',\n",
       " '19',\n",
       " '27',\n",
       " '12',\n",
       " '7',\n",
       " '24',\n",
       " '70',\n",
       " '34',\n",
       " '13',\n",
       " '10',\n",
       " '8',\n",
       " '21',\n",
       " '44',\n",
       " '23',\n",
       " '40',\n",
       " '45',\n",
       " '94',\n",
       " '53',\n",
       " '58',\n",
       " '35',\n",
       " '8',\n",
       " '33',\n",
       " '25',\n",
       " '34',\n",
       " '33',\n",
       " '193',\n",
       " '37',\n",
       " '90',\n",
       " '13',\n",
       " '20',\n",
       " '79',\n",
       " '75',\n",
       " '12',\n",
       " '22',\n",
       " '72',\n",
       " '22',\n",
       " '13',\n",
       " '16',\n",
       " '99',\n",
       " '79',\n",
       " '8',\n",
       " '17',\n",
       " '62',\n",
       " '11',\n",
       " '54',\n",
       " '60',\n",
       " '23',\n",
       " '9',\n",
       " '29',\n",
       " '34',\n",
       " '12',\n",
       " '61',\n",
       " '24',\n",
       " '10',\n",
       " '12',\n",
       " '27',\n",
       " '30',\n",
       " '18',\n",
       " '53',\n",
       " '29',\n",
       " '180',\n",
       " '147',\n",
       " '18',\n",
       " '32',\n",
       " '108',\n",
       " '60',\n",
       " '66',\n",
       " '28',\n",
       " '16',\n",
       " '19',\n",
       " '65',\n",
       " '15',\n",
       " '5',\n",
       " '30',\n",
       " '39',\n",
       " '8',\n",
       " '8',\n",
       " '92',\n",
       " '80',\n",
       " '16',\n",
       " '59',\n",
       " '98',\n",
       " '33',\n",
       " '45',\n",
       " '19',\n",
       " '9',\n",
       " '6',\n",
       " '227',\n",
       " '31',\n",
       " '16',\n",
       " '15',\n",
       " '15',\n",
       " '58',\n",
       " '87',\n",
       " '12',\n",
       " '9',\n",
       " '46',\n",
       " '72',\n",
       " '16',\n",
       " '131',\n",
       " '37',\n",
       " '18',\n",
       " '87',\n",
       " '118',\n",
       " '35',\n",
       " '31',\n",
       " '42',\n",
       " '68',\n",
       " '17',\n",
       " '17',\n",
       " '18',\n",
       " '99',\n",
       " '7',\n",
       " '31',\n",
       " '90',\n",
       " '41',\n",
       " '77',\n",
       " '140',\n",
       " '13',\n",
       " '25',\n",
       " '31',\n",
       " '23',\n",
       " '31',\n",
       " '18',\n",
       " '38',\n",
       " '57',\n",
       " '59',\n",
       " '28',\n",
       " '33',\n",
       " '146',\n",
       " '389',\n",
       " '21',\n",
       " '44',\n",
       " '104',\n",
       " '21',\n",
       " '81',\n",
       " '60',\n",
       " '9',\n",
       " '35',\n",
       " '28',\n",
       " '18',\n",
       " '145',\n",
       " '79',\n",
       " '36',\n",
       " '20',\n",
       " '12',\n",
       " '58',\n",
       " '24',\n",
       " '38',\n",
       " '13',\n",
       " '62',\n",
       " '220',\n",
       " '16',\n",
       " '74',\n",
       " '70',\n",
       " '13',\n",
       " '22',\n",
       " '17',\n",
       " '27',\n",
       " '47',\n",
       " '24',\n",
       " '463',\n",
       " '95',\n",
       " '31',\n",
       " '9',\n",
       " '15',\n",
       " '25',\n",
       " '24',\n",
       " '45',\n",
       " '44',\n",
       " '113',\n",
       " '12',\n",
       " '64',\n",
       " '41',\n",
       " '40',\n",
       " '5',\n",
       " '85',\n",
       " '47',\n",
       " '251',\n",
       " '33',\n",
       " '84',\n",
       " '12',\n",
       " '26',\n",
       " '150',\n",
       " '8',\n",
       " '133',\n",
       " '33',\n",
       " '11',\n",
       " '36',\n",
       " '147',\n",
       " '18',\n",
       " '33',\n",
       " '15',\n",
       " '27',\n",
       " '12',\n",
       " '58',\n",
       " '23',\n",
       " '24',\n",
       " '35',\n",
       " '15',\n",
       " '220',\n",
       " '17',\n",
       " '36',\n",
       " '14',\n",
       " '21',\n",
       " '15',\n",
       " '40',\n",
       " '83',\n",
       " '40',\n",
       " '146',\n",
       " '14',\n",
       " '31',\n",
       " '13',\n",
       " '9',\n",
       " '34',\n",
       " '26',\n",
       " '166',\n",
       " '140',\n",
       " '14',\n",
       " '30',\n",
       " '18',\n",
       " '36',\n",
       " '22',\n",
       " '38',\n",
       " '39',\n",
       " '34',\n",
       " '31',\n",
       " '57',\n",
       " '11',\n",
       " '106',\n",
       " '60',\n",
       " '37',\n",
       " '37',\n",
       " '12',\n",
       " '41',\n",
       " '57',\n",
       " '24',\n",
       " '59',\n",
       " '13',\n",
       " '20',\n",
       " '19',\n",
       " '33',\n",
       " '5',\n",
       " '5',\n",
       " '25',\n",
       " '11',\n",
       " '28',\n",
       " '24',\n",
       " '21',\n",
       " '111',\n",
       " '309',\n",
       " '33',\n",
       " '18',\n",
       " '15',\n",
       " '157',\n",
       " '30',\n",
       " '44',\n",
       " '14',\n",
       " '15',\n",
       " '23',\n",
       " '14',\n",
       " '34',\n",
       " '20',\n",
       " '30',\n",
       " '99',\n",
       " '67',\n",
       " '13',\n",
       " '30',\n",
       " '7',\n",
       " '25',\n",
       " '47',\n",
       " '79',\n",
       " '53',\n",
       " '128',\n",
       " '62',\n",
       " '21',\n",
       " '181',\n",
       " '66',\n",
       " '30',\n",
       " '21',\n",
       " '23',\n",
       " '11',\n",
       " '18',\n",
       " '106',\n",
       " '111',\n",
       " '173',\n",
       " '26',\n",
       " '40',\n",
       " '12',\n",
       " '77',\n",
       " '15',\n",
       " '35',\n",
       " '20',\n",
       " '7',\n",
       " '84',\n",
       " '12',\n",
       " '68',\n",
       " '114',\n",
       " '6',\n",
       " '25',\n",
       " '25',\n",
       " '23',\n",
       " '18',\n",
       " '16',\n",
       " '24',\n",
       " '381',\n",
       " '30',\n",
       " '84',\n",
       " '111',\n",
       " '95',\n",
       " '111',\n",
       " '48',\n",
       " '51',\n",
       " '1095',\n",
       " '21',\n",
       " '11',\n",
       " '13',\n",
       " '18',\n",
       " '10',\n",
       " '125',\n",
       " '45',\n",
       " '35',\n",
       " '9',\n",
       " '26',\n",
       " '18',\n",
       " '165',\n",
       " '104',\n",
       " '72',\n",
       " '68',\n",
       " '6',\n",
       " '16',\n",
       " '50',\n",
       " '36',\n",
       " '177',\n",
       " '12',\n",
       " '48',\n",
       " '35',\n",
       " '5',\n",
       " '23',\n",
       " '134',\n",
       " '33',\n",
       " '63',\n",
       " '125',\n",
       " '13',\n",
       " '114',\n",
       " '23',\n",
       " '45',\n",
       " '210',\n",
       " '57',\n",
       " '93',\n",
       " '21',\n",
       " '76',\n",
       " '105',\n",
       " '49',\n",
       " '22',\n",
       " '114',\n",
       " '16',\n",
       " '6',\n",
       " '39',\n",
       " '89',\n",
       " '42',\n",
       " '20',\n",
       " '6',\n",
       " '203',\n",
       " '8',\n",
       " '100',\n",
       " '66',\n",
       " '8',\n",
       " '25',\n",
       " '23',\n",
       " '253',\n",
       " '120',\n",
       " '45',\n",
       " '34',\n",
       " '177',\n",
       " '27',\n",
       " '28',\n",
       " '34',\n",
       " '113',\n",
       " '13',\n",
       " '30',\n",
       " '46',\n",
       " '169',\n",
       " '11',\n",
       " '23',\n",
       " '35',\n",
       " '44',\n",
       " '94',\n",
       " '13',\n",
       " '11',\n",
       " '113',\n",
       " '28',\n",
       " '37',\n",
       " '53',\n",
       " '20',\n",
       " '8',\n",
       " '242',\n",
       " '50',\n",
       " '108',\n",
       " '43',\n",
       " '74',\n",
       " '31',\n",
       " '21',\n",
       " '13',\n",
       " '57',\n",
       " '285',\n",
       " '28',\n",
       " '56',\n",
       " '54',\n",
       " '18',\n",
       " '119',\n",
       " '17',\n",
       " '81',\n",
       " '40',\n",
       " '72',\n",
       " '41',\n",
       " '11',\n",
       " '45',\n",
       " '71',\n",
       " '32',\n",
       " '98',\n",
       " '33',\n",
       " '92',\n",
       " '52',\n",
       " '44',\n",
       " '72',\n",
       " '5',\n",
       " '73',\n",
       " '10',\n",
       " '142',\n",
       " '182',\n",
       " '281',\n",
       " ...]"
      ]
     },
     "execution_count": 210,
     "metadata": {},
     "output_type": "execute_result"
    }
   ],
   "source": [
    "[j for j in df_source.loc[[True if float(i) >4 else False for i in df_source['Cited by'].values]]['Cited by']]"
   ]
  },
  {
   "cell_type": "code",
   "execution_count": 218,
   "id": "5c74249b",
   "metadata": {},
   "outputs": [
    {
     "name": "stderr",
     "output_type": "stream",
     "text": [
      "/home/sunny/anaconda3/lib/python3.7/site-packages/seaborn/distributions.py:2619: FutureWarning: `distplot` is a deprecated function and will be removed in a future version. Please adapt your code to use either `displot` (a figure-level function with similar flexibility) or `histplot` (an axes-level function for histograms).\n",
      "  warnings.warn(msg, FutureWarning)\n",
      "/home/sunny/anaconda3/lib/python3.7/site-packages/seaborn/distributions.py:2619: FutureWarning: `distplot` is a deprecated function and will be removed in a future version. Please adapt your code to use either `displot` (a figure-level function with similar flexibility) or `histplot` (an axes-level function for histograms).\n",
      "  warnings.warn(msg, FutureWarning)\n"
     ]
    },
    {
     "data": {
      "text/plain": [
       "<AxesSubplot:ylabel='Density'>"
      ]
     },
     "execution_count": 218,
     "metadata": {},
     "output_type": "execute_result"
    },
    {
     "data": {
      "image/png": "[encoded data removed]",
      "text/plain": [
       "<Figure size 1008x576 with 1 Axes>"
      ]
     },
     "metadata": {
      "needs_background": "light"
     },
     "output_type": "display_data"
    }
   ],
   "source": [
    "f, ax = plt.subplots(figsize=(14, 8))\n",
    "sns.distplot(citation)\n",
    "sns.distplot([j for j in df_source.loc[[True if float(i) >4 else False for i in df_source['Cited by'].values]]['Cited by']])\n"
   ]
  },
  {
   "cell_type": "code",
   "execution_count": 212,
   "id": "2fbea86b",
   "metadata": {},
   "outputs": [
    {
     "data": {
      "text/plain": [
       "[(nan, 249),\n",
       " ('1', 164),\n",
       " ('2', 116),\n",
       " ('3', 102),\n",
       " ('4', 95),\n",
       " ('6', 92),\n",
       " ('8', 86),\n",
       " ('5', 82),\n",
       " ('12', 74),\n",
       " ('11', 71),\n",
       " ('9', 70),\n",
       " ('13', 69),\n",
       " ('7', 67),\n",
       " ('10', 66),\n",
       " ('14', 64),\n",
       " ('15', 58),\n",
       " ('18', 54),\n",
       " ('22', 50),\n",
       " ('16', 46),\n",
       " ('21', 45),\n",
       " ('23', 44),\n",
       " ('19', 41),\n",
       " ('20', 40),\n",
       " ('30', 39),\n",
       " ('17', 39),\n",
       " ('33', 38),\n",
       " ('24', 37),\n",
       " ('26', 37),\n",
       " ('27', 36),\n",
       " ('29', 35),\n",
       " ('31', 33),\n",
       " ('25', 31),\n",
       " ('44', 30),\n",
       " ('34', 29),\n",
       " ('38', 29),\n",
       " ('36', 27),\n",
       " ('37', 27),\n",
       " ('32', 24),\n",
       " ('28', 24),\n",
       " ('35', 23),\n",
       " ('45', 23),\n",
       " ('39', 22),\n",
       " ('40', 21),\n",
       " ('42', 19),\n",
       " ('46', 19),\n",
       " ('43', 17),\n",
       " ('58', 17),\n",
       " ('57', 16),\n",
       " ('62', 16),\n",
       " ('50', 15),\n",
       " ('51', 15),\n",
       " ('52', 15),\n",
       " ('48', 14),\n",
       " ('55', 14),\n",
       " ('47', 13),\n",
       " ('59', 12),\n",
       " ('41', 12),\n",
       " ('49', 12),\n",
       " ('53', 12),\n",
       " ('60', 11),\n",
       " ('72', 11),\n",
       " ('64', 11),\n",
       " ('70', 10),\n",
       " ('68', 10),\n",
       " ('56', 10),\n",
       " ('54', 10),\n",
       " ('76', 10),\n",
       " ('77', 9),\n",
       " ('84', 9),\n",
       " ('61', 9),\n",
       " ('66', 9),\n",
       " ('88', 9),\n",
       " ('71', 8),\n",
       " ('65', 8),\n",
       " ('91', 8),\n",
       " ('69', 8),\n",
       " ('79', 8),\n",
       " ('67', 8),\n",
       " ('95', 8),\n",
       " ('114', 8),\n",
       " ('86', 8),\n",
       " ('75', 7),\n",
       " ('81', 7),\n",
       " ('87', 7),\n",
       " ('92', 7),\n",
       " ('74', 7),\n",
       " ('100', 7),\n",
       " ('98', 7),\n",
       " ('146', 6),\n",
       " ('99', 6),\n",
       " ('106', 6),\n",
       " (27.0, 6),\n",
       " (11.0, 6),\n",
       " ('109', 5),\n",
       " ('97', 5),\n",
       " ('82', 5),\n",
       " ('108', 5),\n",
       " ('73', 5),\n",
       " ('85', 5),\n",
       " ('120', 5),\n",
       " ('63', 5),\n",
       " ('147', 5),\n",
       " ('83', 5),\n",
       " ('166', 5),\n",
       " ('93', 5),\n",
       " ('110', 5),\n",
       " (15.0, 5),\n",
       " (37.0, 5),\n",
       " ('94', 4),\n",
       " ('150', 4),\n",
       " ('123', 4),\n",
       " ('89', 4),\n",
       " ('134', 4),\n",
       " ('78', 4),\n",
       " ('118', 4),\n",
       " ('113', 4),\n",
       " ('111', 4),\n",
       " ('165', 4),\n",
       " ('161', 4),\n",
       " (18.0, 4),\n",
       " (33.0, 4),\n",
       " (31.0, 4),\n",
       " (16.0, 4),\n",
       " (26.0, 4),\n",
       " (19.0, 4),\n",
       " (48.0, 4),\n",
       " (44.0, 4),\n",
       " ('107', 3),\n",
       " ('121', 3),\n",
       " ('251', 3),\n",
       " ('162', 3),\n",
       " ('151', 3),\n",
       " ('80', 3),\n",
       " ('140', 3),\n",
       " ('90', 3),\n",
       " ('104', 3),\n",
       " ('220', 3),\n",
       " ('128', 3),\n",
       " ('125', 3),\n",
       " ('177', 3),\n",
       " ('169', 3),\n",
       " ('142', 3),\n",
       " ('116', 3),\n",
       " ('103', 3),\n",
       " ('101', 3),\n",
       " ('208', 3),\n",
       " ('176', 3),\n",
       " (2.0, 3),\n",
       " (9.0, 3),\n",
       " (12.0, 3),\n",
       " (28.0, 3),\n",
       " (38.0, 3),\n",
       " (20.0, 3),\n",
       " (29.0, 3),\n",
       " (39.0, 3),\n",
       " (22.0, 3),\n",
       " (71.0, 3),\n",
       " (51.0, 3),\n",
       " (49.0, 3),\n",
       " (21.0, 3),\n",
       " (67.0, 3),\n",
       " ('129', 2),\n",
       " ('102', 2),\n",
       " ('214', 2),\n",
       " ('130', 2),\n",
       " ('201', 2),\n",
       " ('137', 2),\n",
       " ('112', 2),\n",
       " ('132', 2),\n",
       " ('291', 2),\n",
       " ('282', 2),\n",
       " ('200', 2),\n",
       " ('180', 2),\n",
       " ('131', 2),\n",
       " ('133', 2),\n",
       " ('181', 2),\n",
       " ('105', 2),\n",
       " ('203', 2),\n",
       " ('241', 2),\n",
       " ('301', 2),\n",
       " ('159', 2),\n",
       " ('127', 2),\n",
       " ('206', 2),\n",
       " ('96', 2),\n",
       " ('138', 2),\n",
       " ('139', 2),\n",
       " ('135', 2),\n",
       " ('174', 2),\n",
       " ('198', 2),\n",
       " ('126', 2),\n",
       " ('141', 2),\n",
       " ('153', 2),\n",
       " ('117', 2),\n",
       " ('192', 2),\n",
       " ('124', 2),\n",
       " (4.0, 2),\n",
       " (34.0, 2),\n",
       " (7.0, 2),\n",
       " (10.0, 2),\n",
       " (24.0, 2),\n",
       " (13.0, 2),\n",
       " (32.0, 2),\n",
       " (6.0, 2),\n",
       " (62.0, 2),\n",
       " (36.0, 2),\n",
       " (43.0, 2),\n",
       " (89.0, 2),\n",
       " (40.0, 2),\n",
       " (73.0, 2),\n",
       " (14.0, 2),\n",
       " (79.0, 2),\n",
       " (17.0, 2),\n",
       " (91.0, 2),\n",
       " (80.0, 2),\n",
       " (119.0, 2),\n",
       " (58.0, 2),\n",
       " (50.0, 2),\n",
       " (54.0, 2),\n",
       " (56.0, 2),\n",
       " (69.0, 2),\n",
       " (103.0, 2),\n",
       " (41.0, 2),\n",
       " ('240', 1),\n",
       " ('395', 1),\n",
       " ('239', 1),\n",
       " ('245', 1),\n",
       " ('920', 1),\n",
       " ('235', 1),\n",
       " ('258', 1),\n",
       " ('259', 1),\n",
       " ('337', 1),\n",
       " ('261', 1),\n",
       " ('392', 1),\n",
       " ('469', 1),\n",
       " ('223', 1),\n",
       " ('193', 1),\n",
       " ('227', 1),\n",
       " ('389', 1),\n",
       " ('145', 1),\n",
       " ('463', 1),\n",
       " ('309', 1),\n",
       " ('157', 1),\n",
       " ('173', 1),\n",
       " ('381', 1),\n",
       " ('1095', 1),\n",
       " ('210', 1),\n",
       " ('253', 1),\n",
       " ('242', 1),\n",
       " ('285', 1),\n",
       " ('119', 1),\n",
       " ('182', 1),\n",
       " ('281', 1),\n",
       " ('278', 1),\n",
       " ('158', 1),\n",
       " ('296', 1),\n",
       " ('205', 1),\n",
       " ('199', 1),\n",
       " ('786', 1),\n",
       " ('236', 1),\n",
       " ('164', 1),\n",
       " ('512', 1),\n",
       " ('302', 1),\n",
       " ('287', 1),\n",
       " ('171', 1),\n",
       " ('179', 1),\n",
       " ('249', 1),\n",
       " ('224', 1),\n",
       " ('289', 1),\n",
       " ('312', 1),\n",
       " ('407', 1),\n",
       " ('324', 1),\n",
       " ('254', 1),\n",
       " ('209', 1),\n",
       " ('564', 1),\n",
       " ('454', 1),\n",
       " ('303', 1),\n",
       " ('1773', 1),\n",
       " ('357', 1),\n",
       " ('1731', 1),\n",
       " ('187', 1),\n",
       " ('202', 1),\n",
       " ('233', 1),\n",
       " ('2152', 1),\n",
       " ('546', 1),\n",
       " ('212', 1),\n",
       " ('352', 1),\n",
       " ('505', 1),\n",
       " ('266', 1),\n",
       " ('172', 1),\n",
       " ('1963', 1),\n",
       " ('600', 1),\n",
       " ('195', 1),\n",
       " ('184', 1),\n",
       " ('155', 1),\n",
       " ('1097', 1),\n",
       " ('399', 1),\n",
       " ('409', 1),\n",
       " ('614', 1),\n",
       " ('189', 1),\n",
       " ('260', 1),\n",
       " ('204', 1),\n",
       " ('196', 1),\n",
       " ('225', 1),\n",
       " ('499', 1),\n",
       " ('1078', 1),\n",
       " ('211', 1),\n",
       " ('234', 1),\n",
       " ('636', 1),\n",
       " ('286', 1),\n",
       " ('115', 1),\n",
       " ('470', 1),\n",
       " ('191', 1),\n",
       " ('122', 1),\n",
       " ('178', 1),\n",
       " ('207', 1),\n",
       " ('243', 1),\n",
       " ('152', 1),\n",
       " ('143', 1),\n",
       " ('197', 1),\n",
       " ('136', 1),\n",
       " (nan, 1),\n",
       " (1.0, 1),\n",
       " (3.0, 1),\n",
       " (8.0, 1),\n",
       " (76.0, 1),\n",
       " (60.0, 1),\n",
       " (88.0, 1),\n",
       " (70.0, 1),\n",
       " (25.0, 1),\n",
       " (174.0, 1),\n",
       " (140.0, 1),\n",
       " (nan, 1),\n",
       " (107.0, 1),\n",
       " (90.0, 1),\n",
       " (191.0, 1),\n",
       " (87.0, 1),\n",
       " (106.0, 1),\n",
       " (202.0, 1),\n",
       " (116.0, 1),\n",
       " (47.0, 1),\n",
       " (92.0, 1),\n",
       " (126.0, 1),\n",
       " (114.0, 1),\n",
       " (63.0, 1),\n",
       " (42.0, 1),\n",
       " (109.0, 1),\n",
       " (77.0, 1),\n",
       " (5.0, 1),\n",
       " (164.0, 1),\n",
       " (99.0, 1),\n",
       " (297.0, 1),\n",
       " (83.0, 1),\n",
       " (98.0, 1),\n",
       " (186.0, 1),\n",
       " (150.0, 1),\n",
       " (65.0, 1),\n",
       " (153.0, 1),\n",
       " (139.0, 1),\n",
       " (113.0, 1),\n",
       " (155.0, 1),\n",
       " (30.0, 1),\n",
       " (61.0, 1),\n",
       " (197.0, 1),\n",
       " (171.0, 1),\n",
       " (102.0, 1),\n",
       " (111.0, 1),\n",
       " (130.0, 1),\n",
       " (86.0, 1)]"
      ]
     },
     "execution_count": 212,
     "metadata": {},
     "output_type": "execute_result"
    }
   ],
   "source": [
    "collections.Counter(citation).most_common()"
   ]
  },
  {
   "cell_type": "code",
   "execution_count": 214,
   "id": "38077fcf",
   "metadata": {},
   "outputs": [
    {
     "data": {
      "text/plain": [
       "[('6', 92),\n",
       " ('8', 86),\n",
       " ('5', 82),\n",
       " ('12', 74),\n",
       " ('11', 71),\n",
       " ('9', 70),\n",
       " ('13', 69),\n",
       " ('7', 67),\n",
       " ('10', 66),\n",
       " ('14', 64),\n",
       " ('15', 58),\n",
       " ('18', 54),\n",
       " ('22', 50),\n",
       " ('16', 46),\n",
       " ('21', 45),\n",
       " ('23', 44),\n",
       " ('19', 41),\n",
       " ('20', 40),\n",
       " ('30', 39),\n",
       " ('17', 39),\n",
       " ('33', 38),\n",
       " ('24', 37),\n",
       " ('26', 37),\n",
       " ('27', 36),\n",
       " ('29', 35),\n",
       " ('31', 33),\n",
       " ('25', 31),\n",
       " ('44', 30),\n",
       " ('34', 29),\n",
       " ('38', 29),\n",
       " ('36', 27),\n",
       " ('37', 27),\n",
       " ('32', 24),\n",
       " ('28', 24),\n",
       " ('35', 23),\n",
       " ('45', 23),\n",
       " ('39', 22),\n",
       " ('40', 21),\n",
       " ('42', 19),\n",
       " ('46', 19),\n",
       " ('43', 17),\n",
       " ('58', 17),\n",
       " ('57', 16),\n",
       " ('62', 16),\n",
       " ('50', 15),\n",
       " ('51', 15),\n",
       " ('52', 15),\n",
       " ('48', 14),\n",
       " ('55', 14),\n",
       " ('47', 13),\n",
       " ('59', 12),\n",
       " ('41', 12),\n",
       " ('49', 12),\n",
       " ('53', 12),\n",
       " ('60', 11),\n",
       " ('72', 11),\n",
       " ('64', 11),\n",
       " ('70', 10),\n",
       " ('68', 10),\n",
       " ('56', 10),\n",
       " ('54', 10),\n",
       " ('76', 10),\n",
       " ('77', 9),\n",
       " ('84', 9),\n",
       " ('61', 9),\n",
       " ('66', 9),\n",
       " ('88', 9),\n",
       " ('71', 8),\n",
       " ('65', 8),\n",
       " ('91', 8),\n",
       " ('69', 8),\n",
       " ('79', 8),\n",
       " ('67', 8),\n",
       " ('95', 8),\n",
       " ('114', 8),\n",
       " ('86', 8),\n",
       " ('75', 7),\n",
       " ('81', 7),\n",
       " ('87', 7),\n",
       " ('92', 7),\n",
       " ('74', 7),\n",
       " ('100', 7),\n",
       " ('98', 7),\n",
       " ('146', 6),\n",
       " ('99', 6),\n",
       " ('106', 6),\n",
       " (27.0, 6),\n",
       " (11.0, 6),\n",
       " ('109', 5),\n",
       " ('97', 5),\n",
       " ('82', 5),\n",
       " ('108', 5),\n",
       " ('73', 5),\n",
       " ('85', 5),\n",
       " ('120', 5),\n",
       " ('63', 5),\n",
       " ('147', 5),\n",
       " ('83', 5),\n",
       " ('166', 5),\n",
       " ('93', 5),\n",
       " ('110', 5),\n",
       " (15.0, 5),\n",
       " (37.0, 5),\n",
       " ('94', 4),\n",
       " ('150', 4),\n",
       " ('123', 4),\n",
       " ('89', 4),\n",
       " ('134', 4),\n",
       " ('78', 4),\n",
       " ('118', 4),\n",
       " ('113', 4),\n",
       " ('111', 4),\n",
       " ('165', 4),\n",
       " ('161', 4),\n",
       " (18.0, 4),\n",
       " (33.0, 4),\n",
       " (31.0, 4),\n",
       " (16.0, 4),\n",
       " (26.0, 4),\n",
       " (19.0, 4),\n",
       " (48.0, 4),\n",
       " (44.0, 4),\n",
       " ('107', 3),\n",
       " ('121', 3),\n",
       " ('251', 3),\n",
       " ('162', 3),\n",
       " ('151', 3),\n",
       " ('80', 3),\n",
       " ('140', 3),\n",
       " ('90', 3),\n",
       " ('104', 3),\n",
       " ('220', 3),\n",
       " ('128', 3),\n",
       " ('125', 3),\n",
       " ('177', 3),\n",
       " ('169', 3),\n",
       " ('142', 3),\n",
       " ('116', 3),\n",
       " ('103', 3),\n",
       " ('101', 3),\n",
       " ('208', 3),\n",
       " ('176', 3),\n",
       " (9.0, 3),\n",
       " (12.0, 3),\n",
       " (28.0, 3),\n",
       " (38.0, 3),\n",
       " (20.0, 3),\n",
       " (29.0, 3),\n",
       " (39.0, 3),\n",
       " (22.0, 3),\n",
       " (71.0, 3),\n",
       " (51.0, 3),\n",
       " (49.0, 3),\n",
       " (21.0, 3),\n",
       " (67.0, 3),\n",
       " ('129', 2),\n",
       " ('102', 2),\n",
       " ('214', 2),\n",
       " ('130', 2),\n",
       " ('201', 2),\n",
       " ('137', 2),\n",
       " ('112', 2),\n",
       " ('132', 2),\n",
       " ('291', 2),\n",
       " ('282', 2),\n",
       " ('200', 2),\n",
       " ('180', 2),\n",
       " ('131', 2),\n",
       " ('133', 2),\n",
       " ('181', 2),\n",
       " ('105', 2),\n",
       " ('203', 2),\n",
       " ('241', 2),\n",
       " ('301', 2),\n",
       " ('159', 2),\n",
       " ('127', 2),\n",
       " ('206', 2),\n",
       " ('96', 2),\n",
       " ('138', 2),\n",
       " ('139', 2),\n",
       " ('135', 2),\n",
       " ('174', 2),\n",
       " ('198', 2),\n",
       " ('126', 2),\n",
       " ('141', 2),\n",
       " ('153', 2),\n",
       " ('117', 2),\n",
       " ('192', 2),\n",
       " ('124', 2),\n",
       " (34.0, 2),\n",
       " (7.0, 2),\n",
       " (10.0, 2),\n",
       " (24.0, 2),\n",
       " (13.0, 2),\n",
       " (32.0, 2),\n",
       " (6.0, 2),\n",
       " (62.0, 2),\n",
       " (36.0, 2),\n",
       " (43.0, 2),\n",
       " (89.0, 2),\n",
       " (40.0, 2),\n",
       " (73.0, 2),\n",
       " (14.0, 2),\n",
       " (79.0, 2),\n",
       " (17.0, 2),\n",
       " (91.0, 2),\n",
       " (80.0, 2),\n",
       " (119.0, 2),\n",
       " (58.0, 2),\n",
       " (50.0, 2),\n",
       " (54.0, 2),\n",
       " (56.0, 2),\n",
       " (69.0, 2),\n",
       " (103.0, 2),\n",
       " (41.0, 2),\n",
       " ('240', 1),\n",
       " ('395', 1),\n",
       " ('239', 1),\n",
       " ('245', 1),\n",
       " ('920', 1),\n",
       " ('235', 1),\n",
       " ('258', 1),\n",
       " ('259', 1),\n",
       " ('337', 1),\n",
       " ('261', 1),\n",
       " ('392', 1),\n",
       " ('469', 1),\n",
       " ('223', 1),\n",
       " ('193', 1),\n",
       " ('227', 1),\n",
       " ('389', 1),\n",
       " ('145', 1),\n",
       " ('463', 1),\n",
       " ('309', 1),\n",
       " ('157', 1),\n",
       " ('173', 1),\n",
       " ('381', 1),\n",
       " ('1095', 1),\n",
       " ('210', 1),\n",
       " ('253', 1),\n",
       " ('242', 1),\n",
       " ('285', 1),\n",
       " ('119', 1),\n",
       " ('182', 1),\n",
       " ('281', 1),\n",
       " ('278', 1),\n",
       " ('158', 1),\n",
       " ('296', 1),\n",
       " ('205', 1),\n",
       " ('199', 1),\n",
       " ('786', 1),\n",
       " ('236', 1),\n",
       " ('164', 1),\n",
       " ('512', 1),\n",
       " ('302', 1),\n",
       " ('287', 1),\n",
       " ('171', 1),\n",
       " ('179', 1),\n",
       " ('249', 1),\n",
       " ('224', 1),\n",
       " ('289', 1),\n",
       " ('312', 1),\n",
       " ('407', 1),\n",
       " ('324', 1),\n",
       " ('254', 1),\n",
       " ('209', 1),\n",
       " ('564', 1),\n",
       " ('454', 1),\n",
       " ('303', 1),\n",
       " ('1773', 1),\n",
       " ('357', 1),\n",
       " ('1731', 1),\n",
       " ('187', 1),\n",
       " ('202', 1),\n",
       " ('233', 1),\n",
       " ('2152', 1),\n",
       " ('546', 1),\n",
       " ('212', 1),\n",
       " ('352', 1),\n",
       " ('505', 1),\n",
       " ('266', 1),\n",
       " ('172', 1),\n",
       " ('1963', 1),\n",
       " ('600', 1),\n",
       " ('195', 1),\n",
       " ('184', 1),\n",
       " ('155', 1),\n",
       " ('1097', 1),\n",
       " ('399', 1),\n",
       " ('409', 1),\n",
       " ('614', 1),\n",
       " ('189', 1),\n",
       " ('260', 1),\n",
       " ('204', 1),\n",
       " ('196', 1),\n",
       " ('225', 1),\n",
       " ('499', 1),\n",
       " ('1078', 1),\n",
       " ('211', 1),\n",
       " ('234', 1),\n",
       " ('636', 1),\n",
       " ('286', 1),\n",
       " ('115', 1),\n",
       " ('470', 1),\n",
       " ('191', 1),\n",
       " ('122', 1),\n",
       " ('178', 1),\n",
       " ('207', 1),\n",
       " ('243', 1),\n",
       " ('152', 1),\n",
       " ('143', 1),\n",
       " ('197', 1),\n",
       " ('136', 1),\n",
       " (8.0, 1),\n",
       " (76.0, 1),\n",
       " (60.0, 1),\n",
       " (88.0, 1),\n",
       " (70.0, 1),\n",
       " (25.0, 1),\n",
       " (174.0, 1),\n",
       " (140.0, 1),\n",
       " (107.0, 1),\n",
       " (90.0, 1),\n",
       " (191.0, 1),\n",
       " (87.0, 1),\n",
       " (106.0, 1),\n",
       " (202.0, 1),\n",
       " (116.0, 1),\n",
       " (47.0, 1),\n",
       " (92.0, 1),\n",
       " (126.0, 1),\n",
       " (114.0, 1),\n",
       " (63.0, 1),\n",
       " (42.0, 1),\n",
       " (109.0, 1),\n",
       " (77.0, 1),\n",
       " (5.0, 1),\n",
       " (164.0, 1),\n",
       " (99.0, 1),\n",
       " (297.0, 1),\n",
       " (83.0, 1),\n",
       " (98.0, 1),\n",
       " (186.0, 1),\n",
       " (150.0, 1),\n",
       " (65.0, 1),\n",
       " (153.0, 1),\n",
       " (139.0, 1),\n",
       " (113.0, 1),\n",
       " (155.0, 1),\n",
       " (30.0, 1),\n",
       " (61.0, 1),\n",
       " (197.0, 1),\n",
       " (171.0, 1),\n",
       " (102.0, 1),\n",
       " (111.0, 1),\n",
       " (130.0, 1),\n",
       " (86.0, 1)]"
      ]
     },
     "execution_count": 214,
     "metadata": {},
     "output_type": "execute_result"
    }
   ],
   "source": [
    "collections.Counter([j for j in df_source.loc[[True if float(i) >4 else False for i in df_source['Cited by'].values]]['Cited by']]).most_common()"
   ]
  },
  {
   "cell_type": "code",
   "execution_count": 219,
   "id": "c6c2d63f",
   "metadata": {},
   "outputs": [
    {
     "name": "stderr",
     "output_type": "stream",
     "text": [
      "/home/sunny/anaconda3/lib/python3.7/site-packages/seaborn/distributions.py:2619: FutureWarning: `distplot` is a deprecated function and will be removed in a future version. Please adapt your code to use either `displot` (a figure-level function with similar flexibility) or `histplot` (an axes-level function for histograms).\n",
      "  warnings.warn(msg, FutureWarning)\n"
     ]
    },
    {
     "data": {
      "text/plain": [
       "<AxesSubplot:ylabel='Density'>"
      ]
     },
     "execution_count": 219,
     "metadata": {},
     "output_type": "execute_result"
    },
    {
     "data": {
      "image/png": "[encoded data removed]",
      "text/plain": [
       "<Figure size 432x288 with 1 Axes>"
      ]
     },
     "metadata": {
      "needs_background": "light"
     },
     "output_type": "display_data"
    }
   ],
   "source": [
    "sns.distplot([j for j in df_source.loc[[True if float(i) >4 else False for i in df_source['Cited by'].values]]['Cited by']])"
   ]
  },
  {
   "cell_type": "code",
   "execution_count": 220,
   "id": "e3405355",
   "metadata": {},
   "outputs": [
    {
     "data": {
      "text/plain": [
       "(13, 54)"
      ]
     },
     "execution_count": 220,
     "metadata": {},
     "output_type": "execute_result"
    }
   ],
   "source": [
    "df_final.loc[df_final['Abstract']=='[No abstract available]'].shape"
   ]
  },
  {
   "cell_type": "code",
   "execution_count": 221,
   "id": "49dc669f",
   "metadata": {},
   "outputs": [],
   "source": [
    "df_abst=df_final.loc[~(df_final['Abstract']=='[No abstract available]')]"
   ]
  },
  {
   "cell_type": "code",
   "execution_count": 222,
   "id": "117d73ee",
   "metadata": {},
   "outputs": [
    {
     "data": {
      "text/plain": [
       "50"
      ]
     },
     "execution_count": 222,
     "metadata": {},
     "output_type": "execute_result"
    }
   ],
   "source": [
    "sum([True if str(i)=='nan' else False for i in df_abst.DOI.values])"
   ]
  },
  {
   "cell_type": "code",
   "execution_count": 223,
   "id": "9c77826a",
   "metadata": {},
   "outputs": [],
   "source": [
    "df_doi=df_abst.loc[[False if str(i)=='nan' else True for i in df_abst.DOI.values]]"
   ]
  },
  {
   "cell_type": "code",
   "execution_count": 224,
   "id": "c8e00da9",
   "metadata": {},
   "outputs": [
    {
     "data": {
      "text/plain": [
       "(3229, 54)"
      ]
     },
     "execution_count": 224,
     "metadata": {},
     "output_type": "execute_result"
    }
   ],
   "source": [
    "df_doi.shape"
   ]
  },
  {
   "cell_type": "code",
   "execution_count": 225,
   "id": "63f9e7d6",
   "metadata": {},
   "outputs": [
    {
     "data": {
      "text/plain": [
       "(3220, 54)"
      ]
     },
     "execution_count": 225,
     "metadata": {},
     "output_type": "execute_result"
    }
   ],
   "source": [
    "df_doi.drop_duplicates(subset=['Title']).shape"
   ]
  },
  {
   "cell_type": "code",
   "execution_count": 227,
   "id": "f3a390ed",
   "metadata": {},
   "outputs": [],
   "source": [
    "df_doi=df_doi.drop_duplicates(subset=['DOI'])"
   ]
  },
  {
   "cell_type": "code",
   "execution_count": 228,
   "id": "d9227eb9",
   "metadata": {},
   "outputs": [
    {
     "data": {
      "text/plain": [
       "(3220, 54)"
      ]
     },
     "execution_count": 228,
     "metadata": {},
     "output_type": "execute_result"
    }
   ],
   "source": [
    "df_doi.shape"
   ]
  },
  {
   "cell_type": "code",
   "execution_count": 226,
   "id": "5ddd8ea7",
   "metadata": {},
   "outputs": [
    {
     "data": {
      "text/plain": [
       "'/home/sunny/plastic literature network and modeling/author network final theis'"
      ]
     },
     "execution_count": 226,
     "metadata": {},
     "output_type": "execute_result"
    }
   ],
   "source": [
    "pwd"
   ]
  },
  {
   "cell_type": "code",
   "execution_count": 229,
   "id": "5f759272",
   "metadata": {},
   "outputs": [],
   "source": [
    "df_doi.to_csv('plastic_3220_year_correct.csv',header=True,index=None)"
   ]
  },
  {
   "cell_type": "code",
   "execution_count": 230,
   "id": "f4acf09b",
   "metadata": {},
   "outputs": [
    {
     "name": "stdout",
     "output_type": "stream",
     "text": [
      "\u001b[0m\u001b[01;35m'Distribution of number of authors in records.jpeg'\u001b[0m\r\n",
      "\u001b[01;35m'Distribution of number of authors in records.png'\u001b[0m\r\n",
      "\u001b[01;35m'Distribution of number of records for different Source title.jpeg'\u001b[0m\r\n",
      "\u001b[01;35m'Distribution of number of records for different Source title.png'\u001b[0m\r\n",
      "\u001b[01;35m'Distribution of number of references in records.jpeg'\u001b[0m\r\n",
      "\u001b[01;35m'Distribution of number of references in records.png'\u001b[0m\r\n",
      "\u001b[01;35m'Number of publication for top 10 languages.jpeg'\u001b[0m\r\n",
      "\u001b[01;35m'Number of publication for top 10 languages.png'\u001b[0m\r\n",
      " plastic_3220_year_correct.csv\r\n",
      "'scopus data pre-processing before author keyword network.ipynb'\r\n",
      "\u001b[01;35m'Year vs # of publication before other filter.jpg'\u001b[0m\r\n",
      "\u001b[01;35m'Year vs # of publication before other filter.png'\u001b[0m\r\n"
     ]
    }
   ],
   "source": [
    "ls"
   ]
  },
  {
   "cell_type": "code",
   "execution_count": 231,
   "id": "ed7031da",
   "metadata": {},
   "outputs": [
    {
     "data": {
      "text/plain": [
       "252"
      ]
     },
     "execution_count": 231,
     "metadata": {},
     "output_type": "execute_result"
    }
   ],
   "source": [
    "4918-4666"
   ]
  },
  {
   "cell_type": "code",
   "execution_count": 233,
   "id": "a1f313ad",
   "metadata": {},
   "outputs": [],
   "source": [
    "filt=[4918,4715,4505,4469,4299,3487,3292,3220]"
   ]
  },
  {
   "cell_type": "code",
   "execution_count": 247,
   "id": "21b12cfa",
   "metadata": {
    "collapsed": true
   },
   "outputs": [
    {
     "data": {
      "image/png": "[encoded data removed]",
      "text/plain": [
       "<Figure size 1008x576 with 1 Axes>"
      ]
     },
     "metadata": {
      "needs_background": "light"
     },
     "output_type": "display_data"
    }
   ],
   "source": [
    "f, ax = plt.subplots(figsize=(14, 8))\n",
    "plt.plot(range(8),filt,'o--')\n",
    "plt.grid(axis='y', color='0.9')\n",
    "for i in range(8):\n",
    "        plt.text(i+.05, filt[i]+10, str(filt[i]),fontsize=12)\n",
    "ax.set_xticks(range(8))\n",
    "ax.set_xticklabels(['Initial records','Year filter','Language filter','Author filter','Reference filter','Source filter','Citation filter','Abst_doi filter'],fontsize=12)\n",
    "ax.set_title('Number of records after different filters', fontsize=20)\n",
    "ax.set_xlabel('Filters', fontsize=16)\n",
    "ax.set_ylabel('Number of records', fontsize=14)\n",
    "f.savefig('Number of records after different filters.png', dpi=400)"
   ]
  },
  {
   "cell_type": "code",
   "execution_count": 248,
   "id": "29d3213d",
   "metadata": {},
   "outputs": [
    {
     "data": {
      "image/png": "[encoded data removed]",
      "text/plain": [
       "<Figure size 1008x576 with 1 Axes>"
      ]
     },
     "metadata": {
      "needs_background": "light"
     },
     "output_type": "display_data"
    }
   ],
   "source": [
    "f, ax = plt.subplots(figsize=(14, 8))\n",
    "plt.plot(range(8),filt,'o--')\n",
    "plt.grid(axis='y', color='0.9')\n",
    "for i in range(8):\n",
    "        plt.text(i+.05, filt[i]+10, str(filt[i]),fontsize=12)\n",
    "ax.set_xticks(range(8))\n",
    "ax.set_xticklabels(['Initial records','Year filter','Language filter','Author filter','Reference filter','Source filter','Citation filter','Abst_doi filter'],fontsize=12)\n",
    "ax.set_title('Number of records after different filters', fontsize=20)\n",
    "ax.set_xlabel('Filters', fontsize=16)\n",
    "ax.set_ylabel('Number of records', fontsize=14)\n",
    "f.savefig('Number of records after different filters.jpeg', dpi=400)"
   ]
  },
  {
   "cell_type": "code",
   "execution_count": null,
   "id": "eeee1ec9",
   "metadata": {},
   "outputs": [],
   "source": []
  }
 ],
 "metadata": {
  "kernelspec": {
   "display_name": "Python 3",
   "language": "python",
   "name": "python3"
  },
  "language_info": {
   "codemirror_mode": {
    "name": "ipython",
    "version": 3
   },
   "file_extension": ".py",
   "mimetype": "text/x-python",
   "name": "python",
   "nbconvert_exporter": "python",
   "pygments_lexer": "ipython3",
   "version": "3.7.7"
  }
 },
 "nbformat": 4,
 "nbformat_minor": 5
}
